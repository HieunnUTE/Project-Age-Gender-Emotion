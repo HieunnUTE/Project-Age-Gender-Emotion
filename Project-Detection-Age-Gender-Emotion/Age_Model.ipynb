{
  "nbformat": 4,
  "nbformat_minor": 0,
  "metadata": {
    "colab": {
      "name": "Age_Model.ipynb",
      "provenance": [],
      "collapsed_sections": []
    },
    "kernelspec": {
      "name": "python3",
      "display_name": "Python 3"
    },
    "language_info": {
      "name": "python"
    },
    "accelerator": "GPU"
  },
  "cells": [
    {
      "cell_type": "code",
      "execution_count": 1,
      "metadata": {
        "colab": {
          "base_uri": "https://localhost:8080/"
        },
        "id": "lor6bP4BCaKT",
        "outputId": "ccf76b87-e248-4ca1-80ac-6811b02752c4"
      },
      "outputs": [
        {
          "output_type": "stream",
          "name": "stdout",
          "text": [
            "Mounted at /content/drive\n"
          ]
        }
      ],
      "source": [
        "from google.colab import drive\n",
        "drive.mount('/content/drive')"
      ]
    },
    {
      "cell_type": "code",
      "source": [
        "# Imports\n",
        "\n",
        "import pandas as pd\n",
        "import numpy as np\n",
        "import matplotlib.pyplot as plt\n",
        "\n",
        "import cv2\n",
        "import os\n",
        "from zipfile import ZipFile\n",
        "import time\n",
        "from datetime import datetime\n",
        "import itertools\n",
        "\n",
        "from sklearn.model_selection import train_test_split\n",
        "from sklearn.metrics import confusion_matrix\n",
        "\n",
        "import tensorflow as tf\n",
        "from tensorflow.keras.models import Sequential\n",
        "from tensorflow.keras.layers import Dense\n",
        "from tensorflow.keras.layers import Conv2D, AveragePooling2D, GlobalAveragePooling2D\n",
        "from tensorflow.keras import utils\n",
        "from tensorflow.keras.callbacks import TensorBoard, ModelCheckpoint\n",
        "\n",
        "# Setting random seeds to reduce the amount of randomness in the neural net weights and results\n",
        "# The results may still not be exactly reproducible\n",
        "\n",
        "np.random.seed(42)\n",
        "tf.random.set_seed(42)"
      ],
      "metadata": {
        "id": "22mTCUaUCmMi"
      },
      "execution_count": 2,
      "outputs": []
    },
    {
      "cell_type": "code",
      "source": [
        "# Unzipping the dataset file combined_faces.zip\n",
        "\n",
        "combined_faces_zip_path = \"/content/drive/MyDrive/ProjectAI/Age_input_output/input/combined_faces.zip\"\n",
        "\n",
        "with ZipFile(combined_faces_zip_path, 'r') as myzip:\n",
        "    myzip.extractall()\n",
        "    print('Done unzipping combined_faces.zip')"
      ],
      "metadata": {
        "colab": {
          "base_uri": "https://localhost:8080/"
        },
        "id": "slPHfqIaCzuj",
        "outputId": "5061af3e-bfdd-4f77-ba5e-bf0d03ff4e10"
      },
      "execution_count": 3,
      "outputs": [
        {
          "output_type": "stream",
          "name": "stdout",
          "text": [
            "Done unzipping combined_faces.zip\n"
          ]
        }
      ]
    },
    {
      "cell_type": "code",
      "source": [
        "# Unzipping the dataset file combined_faces.zip\n",
        "\n",
        "combined_faces_zip_path = \"/content/drive/MyDrive/ProjectAI/Age_input_output/input/combined_faces_train_augmented.zip\"\n",
        "\n",
        "with ZipFile(combined_faces_zip_path, 'r') as myzip:\n",
        "    myzip.extractall()\n",
        "    print('Done unzipping combined_faces_train_augmented.zip')"
      ],
      "metadata": {
        "colab": {
          "base_uri": "https://localhost:8080/"
        },
        "id": "0f5Ce_6ZDA5M",
        "outputId": "34562012-a129-4a49-a9ac-e13f26aea5bd"
      },
      "execution_count": 4,
      "outputs": [
        {
          "output_type": "stream",
          "name": "stdout",
          "text": [
            "Done unzipping combined_faces_train_augmented.zip\n"
          ]
        }
      ]
    },
    {
      "cell_type": "code",
      "source": [
        "# Importing the augmented training dataset and testing dataset to create tensors of images using the filename paths.\n",
        "\n",
        "train_aug_df = pd.read_csv(\"/content/drive/MyDrive/ProjectAI/Age_input_output/input/images_filenames_labels_train_augmented.csv\")\n",
        "test_df = pd.read_csv(\"/content/drive/MyDrive/ProjectAI/Age_input_output/input/images_filenames_labels_test.csv\")"
      ],
      "metadata": {
        "id": "NrcGMM3vDGCa"
      },
      "execution_count": 5,
      "outputs": []
    },
    {
      "cell_type": "code",
      "source": [
        "train_aug_df.head()"
      ],
      "metadata": {
        "colab": {
          "base_uri": "https://localhost:8080/",
          "height": 206
        },
        "id": "EcaxRrxzDN-h",
        "outputId": "9da13e04-9fb9-4fdc-f7be-7c6635ff3191"
      },
      "execution_count": 6,
      "outputs": [
        {
          "output_type": "execute_result",
          "data": {
            "text/plain": [
              "                                            filename  age\n",
              "0  /content/content/combined_faces_train_augmente...   43\n",
              "1  /content/content/combined_faces_train_augmente...   71\n",
              "2  /content/content/combined_faces_train_augmente...    6\n",
              "3  /content/content/combined_faces_train_augmente...   18\n",
              "4  /content/content/combined_faces_train_augmente...   25"
            ],
            "text/html": [
              "\n",
              "  <div id=\"df-d302193a-523d-4c74-bc00-76b48c8f8511\">\n",
              "    <div class=\"colab-df-container\">\n",
              "      <div>\n",
              "<style scoped>\n",
              "    .dataframe tbody tr th:only-of-type {\n",
              "        vertical-align: middle;\n",
              "    }\n",
              "\n",
              "    .dataframe tbody tr th {\n",
              "        vertical-align: top;\n",
              "    }\n",
              "\n",
              "    .dataframe thead th {\n",
              "        text-align: right;\n",
              "    }\n",
              "</style>\n",
              "<table border=\"1\" class=\"dataframe\">\n",
              "  <thead>\n",
              "    <tr style=\"text-align: right;\">\n",
              "      <th></th>\n",
              "      <th>filename</th>\n",
              "      <th>age</th>\n",
              "    </tr>\n",
              "  </thead>\n",
              "  <tbody>\n",
              "    <tr>\n",
              "      <th>0</th>\n",
              "      <td>/content/content/combined_faces_train_augmente...</td>\n",
              "      <td>43</td>\n",
              "    </tr>\n",
              "    <tr>\n",
              "      <th>1</th>\n",
              "      <td>/content/content/combined_faces_train_augmente...</td>\n",
              "      <td>71</td>\n",
              "    </tr>\n",
              "    <tr>\n",
              "      <th>2</th>\n",
              "      <td>/content/content/combined_faces_train_augmente...</td>\n",
              "      <td>6</td>\n",
              "    </tr>\n",
              "    <tr>\n",
              "      <th>3</th>\n",
              "      <td>/content/content/combined_faces_train_augmente...</td>\n",
              "      <td>18</td>\n",
              "    </tr>\n",
              "    <tr>\n",
              "      <th>4</th>\n",
              "      <td>/content/content/combined_faces_train_augmente...</td>\n",
              "      <td>25</td>\n",
              "    </tr>\n",
              "  </tbody>\n",
              "</table>\n",
              "</div>\n",
              "      <button class=\"colab-df-convert\" onclick=\"convertToInteractive('df-d302193a-523d-4c74-bc00-76b48c8f8511')\"\n",
              "              title=\"Convert this dataframe to an interactive table.\"\n",
              "              style=\"display:none;\">\n",
              "        \n",
              "  <svg xmlns=\"http://www.w3.org/2000/svg\" height=\"24px\"viewBox=\"0 0 24 24\"\n",
              "       width=\"24px\">\n",
              "    <path d=\"M0 0h24v24H0V0z\" fill=\"none\"/>\n",
              "    <path d=\"M18.56 5.44l.94 2.06.94-2.06 2.06-.94-2.06-.94-.94-2.06-.94 2.06-2.06.94zm-11 1L8.5 8.5l.94-2.06 2.06-.94-2.06-.94L8.5 2.5l-.94 2.06-2.06.94zm10 10l.94 2.06.94-2.06 2.06-.94-2.06-.94-.94-2.06-.94 2.06-2.06.94z\"/><path d=\"M17.41 7.96l-1.37-1.37c-.4-.4-.92-.59-1.43-.59-.52 0-1.04.2-1.43.59L10.3 9.45l-7.72 7.72c-.78.78-.78 2.05 0 2.83L4 21.41c.39.39.9.59 1.41.59.51 0 1.02-.2 1.41-.59l7.78-7.78 2.81-2.81c.8-.78.8-2.07 0-2.86zM5.41 20L4 18.59l7.72-7.72 1.47 1.35L5.41 20z\"/>\n",
              "  </svg>\n",
              "      </button>\n",
              "      \n",
              "  <style>\n",
              "    .colab-df-container {\n",
              "      display:flex;\n",
              "      flex-wrap:wrap;\n",
              "      gap: 12px;\n",
              "    }\n",
              "\n",
              "    .colab-df-convert {\n",
              "      background-color: #E8F0FE;\n",
              "      border: none;\n",
              "      border-radius: 50%;\n",
              "      cursor: pointer;\n",
              "      display: none;\n",
              "      fill: #1967D2;\n",
              "      height: 32px;\n",
              "      padding: 0 0 0 0;\n",
              "      width: 32px;\n",
              "    }\n",
              "\n",
              "    .colab-df-convert:hover {\n",
              "      background-color: #E2EBFA;\n",
              "      box-shadow: 0px 1px 2px rgba(60, 64, 67, 0.3), 0px 1px 3px 1px rgba(60, 64, 67, 0.15);\n",
              "      fill: #174EA6;\n",
              "    }\n",
              "\n",
              "    [theme=dark] .colab-df-convert {\n",
              "      background-color: #3B4455;\n",
              "      fill: #D2E3FC;\n",
              "    }\n",
              "\n",
              "    [theme=dark] .colab-df-convert:hover {\n",
              "      background-color: #434B5C;\n",
              "      box-shadow: 0px 1px 3px 1px rgba(0, 0, 0, 0.15);\n",
              "      filter: drop-shadow(0px 1px 2px rgba(0, 0, 0, 0.3));\n",
              "      fill: #FFFFFF;\n",
              "    }\n",
              "  </style>\n",
              "\n",
              "      <script>\n",
              "        const buttonEl =\n",
              "          document.querySelector('#df-d302193a-523d-4c74-bc00-76b48c8f8511 button.colab-df-convert');\n",
              "        buttonEl.style.display =\n",
              "          google.colab.kernel.accessAllowed ? 'block' : 'none';\n",
              "\n",
              "        async function convertToInteractive(key) {\n",
              "          const element = document.querySelector('#df-d302193a-523d-4c74-bc00-76b48c8f8511');\n",
              "          const dataTable =\n",
              "            await google.colab.kernel.invokeFunction('convertToInteractive',\n",
              "                                                     [key], {});\n",
              "          if (!dataTable) return;\n",
              "\n",
              "          const docLinkHtml = 'Like what you see? Visit the ' +\n",
              "            '<a target=\"_blank\" href=https://colab.research.google.com/notebooks/data_table.ipynb>data table notebook</a>'\n",
              "            + ' to learn more about interactive tables.';\n",
              "          element.innerHTML = '';\n",
              "          dataTable['output_type'] = 'display_data';\n",
              "          await google.colab.output.renderOutput(dataTable, element);\n",
              "          const docLink = document.createElement('div');\n",
              "          docLink.innerHTML = docLinkHtml;\n",
              "          element.appendChild(docLink);\n",
              "        }\n",
              "      </script>\n",
              "    </div>\n",
              "  </div>\n",
              "  "
            ]
          },
          "metadata": {},
          "execution_count": 6
        }
      ]
    },
    {
      "cell_type": "code",
      "source": [
        "test_df.head()"
      ],
      "metadata": {
        "colab": {
          "base_uri": "https://localhost:8080/",
          "height": 206
        },
        "id": "frVbCe1_DPO4",
        "outputId": "80fbd15f-aa62-4863-9cc4-95c317d1474a"
      },
      "execution_count": 7,
      "outputs": [
        {
          "output_type": "execute_result",
          "data": {
            "text/plain": [
              "                                     filename  age\n",
              "0   /content/content/combined_faces/8_163.jpg    8\n",
              "1   /content/content/combined_faces/38_66.jpg   38\n",
              "2  /content/content/combined_faces/40_177.jpg   40\n",
              "3  /content/content/combined_faces/36_267.jpg   36\n",
              "4   /content/content/combined_faces/8_349.jpg    8"
            ],
            "text/html": [
              "\n",
              "  <div id=\"df-eb346ba8-c692-41dd-8e77-74a7384428a1\">\n",
              "    <div class=\"colab-df-container\">\n",
              "      <div>\n",
              "<style scoped>\n",
              "    .dataframe tbody tr th:only-of-type {\n",
              "        vertical-align: middle;\n",
              "    }\n",
              "\n",
              "    .dataframe tbody tr th {\n",
              "        vertical-align: top;\n",
              "    }\n",
              "\n",
              "    .dataframe thead th {\n",
              "        text-align: right;\n",
              "    }\n",
              "</style>\n",
              "<table border=\"1\" class=\"dataframe\">\n",
              "  <thead>\n",
              "    <tr style=\"text-align: right;\">\n",
              "      <th></th>\n",
              "      <th>filename</th>\n",
              "      <th>age</th>\n",
              "    </tr>\n",
              "  </thead>\n",
              "  <tbody>\n",
              "    <tr>\n",
              "      <th>0</th>\n",
              "      <td>/content/content/combined_faces/8_163.jpg</td>\n",
              "      <td>8</td>\n",
              "    </tr>\n",
              "    <tr>\n",
              "      <th>1</th>\n",
              "      <td>/content/content/combined_faces/38_66.jpg</td>\n",
              "      <td>38</td>\n",
              "    </tr>\n",
              "    <tr>\n",
              "      <th>2</th>\n",
              "      <td>/content/content/combined_faces/40_177.jpg</td>\n",
              "      <td>40</td>\n",
              "    </tr>\n",
              "    <tr>\n",
              "      <th>3</th>\n",
              "      <td>/content/content/combined_faces/36_267.jpg</td>\n",
              "      <td>36</td>\n",
              "    </tr>\n",
              "    <tr>\n",
              "      <th>4</th>\n",
              "      <td>/content/content/combined_faces/8_349.jpg</td>\n",
              "      <td>8</td>\n",
              "    </tr>\n",
              "  </tbody>\n",
              "</table>\n",
              "</div>\n",
              "      <button class=\"colab-df-convert\" onclick=\"convertToInteractive('df-eb346ba8-c692-41dd-8e77-74a7384428a1')\"\n",
              "              title=\"Convert this dataframe to an interactive table.\"\n",
              "              style=\"display:none;\">\n",
              "        \n",
              "  <svg xmlns=\"http://www.w3.org/2000/svg\" height=\"24px\"viewBox=\"0 0 24 24\"\n",
              "       width=\"24px\">\n",
              "    <path d=\"M0 0h24v24H0V0z\" fill=\"none\"/>\n",
              "    <path d=\"M18.56 5.44l.94 2.06.94-2.06 2.06-.94-2.06-.94-.94-2.06-.94 2.06-2.06.94zm-11 1L8.5 8.5l.94-2.06 2.06-.94-2.06-.94L8.5 2.5l-.94 2.06-2.06.94zm10 10l.94 2.06.94-2.06 2.06-.94-2.06-.94-.94-2.06-.94 2.06-2.06.94z\"/><path d=\"M17.41 7.96l-1.37-1.37c-.4-.4-.92-.59-1.43-.59-.52 0-1.04.2-1.43.59L10.3 9.45l-7.72 7.72c-.78.78-.78 2.05 0 2.83L4 21.41c.39.39.9.59 1.41.59.51 0 1.02-.2 1.41-.59l7.78-7.78 2.81-2.81c.8-.78.8-2.07 0-2.86zM5.41 20L4 18.59l7.72-7.72 1.47 1.35L5.41 20z\"/>\n",
              "  </svg>\n",
              "      </button>\n",
              "      \n",
              "  <style>\n",
              "    .colab-df-container {\n",
              "      display:flex;\n",
              "      flex-wrap:wrap;\n",
              "      gap: 12px;\n",
              "    }\n",
              "\n",
              "    .colab-df-convert {\n",
              "      background-color: #E8F0FE;\n",
              "      border: none;\n",
              "      border-radius: 50%;\n",
              "      cursor: pointer;\n",
              "      display: none;\n",
              "      fill: #1967D2;\n",
              "      height: 32px;\n",
              "      padding: 0 0 0 0;\n",
              "      width: 32px;\n",
              "    }\n",
              "\n",
              "    .colab-df-convert:hover {\n",
              "      background-color: #E2EBFA;\n",
              "      box-shadow: 0px 1px 2px rgba(60, 64, 67, 0.3), 0px 1px 3px 1px rgba(60, 64, 67, 0.15);\n",
              "      fill: #174EA6;\n",
              "    }\n",
              "\n",
              "    [theme=dark] .colab-df-convert {\n",
              "      background-color: #3B4455;\n",
              "      fill: #D2E3FC;\n",
              "    }\n",
              "\n",
              "    [theme=dark] .colab-df-convert:hover {\n",
              "      background-color: #434B5C;\n",
              "      box-shadow: 0px 1px 3px 1px rgba(0, 0, 0, 0.15);\n",
              "      filter: drop-shadow(0px 1px 2px rgba(0, 0, 0, 0.3));\n",
              "      fill: #FFFFFF;\n",
              "    }\n",
              "  </style>\n",
              "\n",
              "      <script>\n",
              "        const buttonEl =\n",
              "          document.querySelector('#df-eb346ba8-c692-41dd-8e77-74a7384428a1 button.colab-df-convert');\n",
              "        buttonEl.style.display =\n",
              "          google.colab.kernel.accessAllowed ? 'block' : 'none';\n",
              "\n",
              "        async function convertToInteractive(key) {\n",
              "          const element = document.querySelector('#df-eb346ba8-c692-41dd-8e77-74a7384428a1');\n",
              "          const dataTable =\n",
              "            await google.colab.kernel.invokeFunction('convertToInteractive',\n",
              "                                                     [key], {});\n",
              "          if (!dataTable) return;\n",
              "\n",
              "          const docLinkHtml = 'Like what you see? Visit the ' +\n",
              "            '<a target=\"_blank\" href=https://colab.research.google.com/notebooks/data_table.ipynb>data table notebook</a>'\n",
              "            + ' to learn more about interactive tables.';\n",
              "          element.innerHTML = '';\n",
              "          dataTable['output_type'] = 'display_data';\n",
              "          await google.colab.output.renderOutput(dataTable, element);\n",
              "          const docLink = document.createElement('div');\n",
              "          docLink.innerHTML = docLinkHtml;\n",
              "          element.appendChild(docLink);\n",
              "        }\n",
              "      </script>\n",
              "    </div>\n",
              "  </div>\n",
              "  "
            ]
          },
          "metadata": {},
          "execution_count": 7
        }
      ]
    },
    {
      "cell_type": "code",
      "source": [
        "train_aug_df.shape"
      ],
      "metadata": {
        "colab": {
          "base_uri": "https://localhost:8080/"
        },
        "id": "IWlEEk5EDQO4",
        "outputId": "3e9f2299-bcc9-4900-f9bd-cff4bbe94680"
      },
      "execution_count": 8,
      "outputs": [
        {
          "output_type": "execute_result",
          "data": {
            "text/plain": [
              "(234400, 2)"
            ]
          },
          "metadata": {},
          "execution_count": 8
        }
      ]
    },
    {
      "cell_type": "code",
      "source": [
        "test_df.shape"
      ],
      "metadata": {
        "colab": {
          "base_uri": "https://localhost:8080/"
        },
        "id": "aJO2PB5ODRLm",
        "outputId": "2eaf55d7-8e48-41aa-ac37-dff42fcbb93b"
      },
      "execution_count": 9,
      "outputs": [
        {
          "output_type": "execute_result",
          "data": {
            "text/plain": [
              "(10046, 2)"
            ]
          },
          "metadata": {},
          "execution_count": 9
        }
      ]
    },
    {
      "cell_type": "code",
      "source": [
        "# Defining a function to return the class labels corresponding to the re-distributed 7 age-ranges.\n",
        "\n",
        "def class_labels_reassign(age):\n",
        "\n",
        "    if 1 <= age <= 2:\n",
        "        return 0\n",
        "    elif 3 <= age <= 9:\n",
        "        return 1\n",
        "    elif 10 <= age <= 20:\n",
        "        return 2\n",
        "    elif 21 <= age <= 27:\n",
        "        return 3\n",
        "    elif 28 <= age <= 45:\n",
        "        return 4\n",
        "    elif 46 <= age <= 65:\n",
        "        return 5\n",
        "    else:\n",
        "        return 6"
      ],
      "metadata": {
        "id": "IyXEqAg8DSFE"
      },
      "execution_count": 10,
      "outputs": []
    },
    {
      "cell_type": "code",
      "source": [
        "train_aug_df['target'] = train_aug_df['age'].map(class_labels_reassign)\n",
        "test_df['target'] = test_df['age'].map(class_labels_reassign)"
      ],
      "metadata": {
        "id": "H_n2Q6eaDUGi"
      },
      "execution_count": 11,
      "outputs": []
    },
    {
      "cell_type": "code",
      "source": [
        "train_aug_df.head()"
      ],
      "metadata": {
        "colab": {
          "base_uri": "https://localhost:8080/",
          "height": 206
        },
        "id": "4dzNyuK1DVqJ",
        "outputId": "fe289882-071a-437d-b7b5-161792793de1"
      },
      "execution_count": 12,
      "outputs": [
        {
          "output_type": "execute_result",
          "data": {
            "text/plain": [
              "                                            filename  age  target\n",
              "0  /content/content/combined_faces_train_augmente...   43       4\n",
              "1  /content/content/combined_faces_train_augmente...   71       6\n",
              "2  /content/content/combined_faces_train_augmente...    6       1\n",
              "3  /content/content/combined_faces_train_augmente...   18       2\n",
              "4  /content/content/combined_faces_train_augmente...   25       3"
            ],
            "text/html": [
              "\n",
              "  <div id=\"df-0daab60a-cb45-416e-a7b6-acc1cd765925\">\n",
              "    <div class=\"colab-df-container\">\n",
              "      <div>\n",
              "<style scoped>\n",
              "    .dataframe tbody tr th:only-of-type {\n",
              "        vertical-align: middle;\n",
              "    }\n",
              "\n",
              "    .dataframe tbody tr th {\n",
              "        vertical-align: top;\n",
              "    }\n",
              "\n",
              "    .dataframe thead th {\n",
              "        text-align: right;\n",
              "    }\n",
              "</style>\n",
              "<table border=\"1\" class=\"dataframe\">\n",
              "  <thead>\n",
              "    <tr style=\"text-align: right;\">\n",
              "      <th></th>\n",
              "      <th>filename</th>\n",
              "      <th>age</th>\n",
              "      <th>target</th>\n",
              "    </tr>\n",
              "  </thead>\n",
              "  <tbody>\n",
              "    <tr>\n",
              "      <th>0</th>\n",
              "      <td>/content/content/combined_faces_train_augmente...</td>\n",
              "      <td>43</td>\n",
              "      <td>4</td>\n",
              "    </tr>\n",
              "    <tr>\n",
              "      <th>1</th>\n",
              "      <td>/content/content/combined_faces_train_augmente...</td>\n",
              "      <td>71</td>\n",
              "      <td>6</td>\n",
              "    </tr>\n",
              "    <tr>\n",
              "      <th>2</th>\n",
              "      <td>/content/content/combined_faces_train_augmente...</td>\n",
              "      <td>6</td>\n",
              "      <td>1</td>\n",
              "    </tr>\n",
              "    <tr>\n",
              "      <th>3</th>\n",
              "      <td>/content/content/combined_faces_train_augmente...</td>\n",
              "      <td>18</td>\n",
              "      <td>2</td>\n",
              "    </tr>\n",
              "    <tr>\n",
              "      <th>4</th>\n",
              "      <td>/content/content/combined_faces_train_augmente...</td>\n",
              "      <td>25</td>\n",
              "      <td>3</td>\n",
              "    </tr>\n",
              "  </tbody>\n",
              "</table>\n",
              "</div>\n",
              "      <button class=\"colab-df-convert\" onclick=\"convertToInteractive('df-0daab60a-cb45-416e-a7b6-acc1cd765925')\"\n",
              "              title=\"Convert this dataframe to an interactive table.\"\n",
              "              style=\"display:none;\">\n",
              "        \n",
              "  <svg xmlns=\"http://www.w3.org/2000/svg\" height=\"24px\"viewBox=\"0 0 24 24\"\n",
              "       width=\"24px\">\n",
              "    <path d=\"M0 0h24v24H0V0z\" fill=\"none\"/>\n",
              "    <path d=\"M18.56 5.44l.94 2.06.94-2.06 2.06-.94-2.06-.94-.94-2.06-.94 2.06-2.06.94zm-11 1L8.5 8.5l.94-2.06 2.06-.94-2.06-.94L8.5 2.5l-.94 2.06-2.06.94zm10 10l.94 2.06.94-2.06 2.06-.94-2.06-.94-.94-2.06-.94 2.06-2.06.94z\"/><path d=\"M17.41 7.96l-1.37-1.37c-.4-.4-.92-.59-1.43-.59-.52 0-1.04.2-1.43.59L10.3 9.45l-7.72 7.72c-.78.78-.78 2.05 0 2.83L4 21.41c.39.39.9.59 1.41.59.51 0 1.02-.2 1.41-.59l7.78-7.78 2.81-2.81c.8-.78.8-2.07 0-2.86zM5.41 20L4 18.59l7.72-7.72 1.47 1.35L5.41 20z\"/>\n",
              "  </svg>\n",
              "      </button>\n",
              "      \n",
              "  <style>\n",
              "    .colab-df-container {\n",
              "      display:flex;\n",
              "      flex-wrap:wrap;\n",
              "      gap: 12px;\n",
              "    }\n",
              "\n",
              "    .colab-df-convert {\n",
              "      background-color: #E8F0FE;\n",
              "      border: none;\n",
              "      border-radius: 50%;\n",
              "      cursor: pointer;\n",
              "      display: none;\n",
              "      fill: #1967D2;\n",
              "      height: 32px;\n",
              "      padding: 0 0 0 0;\n",
              "      width: 32px;\n",
              "    }\n",
              "\n",
              "    .colab-df-convert:hover {\n",
              "      background-color: #E2EBFA;\n",
              "      box-shadow: 0px 1px 2px rgba(60, 64, 67, 0.3), 0px 1px 3px 1px rgba(60, 64, 67, 0.15);\n",
              "      fill: #174EA6;\n",
              "    }\n",
              "\n",
              "    [theme=dark] .colab-df-convert {\n",
              "      background-color: #3B4455;\n",
              "      fill: #D2E3FC;\n",
              "    }\n",
              "\n",
              "    [theme=dark] .colab-df-convert:hover {\n",
              "      background-color: #434B5C;\n",
              "      box-shadow: 0px 1px 3px 1px rgba(0, 0, 0, 0.15);\n",
              "      filter: drop-shadow(0px 1px 2px rgba(0, 0, 0, 0.3));\n",
              "      fill: #FFFFFF;\n",
              "    }\n",
              "  </style>\n",
              "\n",
              "      <script>\n",
              "        const buttonEl =\n",
              "          document.querySelector('#df-0daab60a-cb45-416e-a7b6-acc1cd765925 button.colab-df-convert');\n",
              "        buttonEl.style.display =\n",
              "          google.colab.kernel.accessAllowed ? 'block' : 'none';\n",
              "\n",
              "        async function convertToInteractive(key) {\n",
              "          const element = document.querySelector('#df-0daab60a-cb45-416e-a7b6-acc1cd765925');\n",
              "          const dataTable =\n",
              "            await google.colab.kernel.invokeFunction('convertToInteractive',\n",
              "                                                     [key], {});\n",
              "          if (!dataTable) return;\n",
              "\n",
              "          const docLinkHtml = 'Like what you see? Visit the ' +\n",
              "            '<a target=\"_blank\" href=https://colab.research.google.com/notebooks/data_table.ipynb>data table notebook</a>'\n",
              "            + ' to learn more about interactive tables.';\n",
              "          element.innerHTML = '';\n",
              "          dataTable['output_type'] = 'display_data';\n",
              "          await google.colab.output.renderOutput(dataTable, element);\n",
              "          const docLink = document.createElement('div');\n",
              "          docLink.innerHTML = docLinkHtml;\n",
              "          element.appendChild(docLink);\n",
              "        }\n",
              "      </script>\n",
              "    </div>\n",
              "  </div>\n",
              "  "
            ]
          },
          "metadata": {},
          "execution_count": 12
        }
      ]
    },
    {
      "cell_type": "code",
      "source": [
        "test_df.head()"
      ],
      "metadata": {
        "colab": {
          "base_uri": "https://localhost:8080/",
          "height": 206
        },
        "id": "-V-4sOBfDWvy",
        "outputId": "aac4c659-bd4d-402e-f757-80252e7364ee"
      },
      "execution_count": 13,
      "outputs": [
        {
          "output_type": "execute_result",
          "data": {
            "text/plain": [
              "                                     filename  age  target\n",
              "0   /content/content/combined_faces/8_163.jpg    8       1\n",
              "1   /content/content/combined_faces/38_66.jpg   38       4\n",
              "2  /content/content/combined_faces/40_177.jpg   40       4\n",
              "3  /content/content/combined_faces/36_267.jpg   36       4\n",
              "4   /content/content/combined_faces/8_349.jpg    8       1"
            ],
            "text/html": [
              "\n",
              "  <div id=\"df-2eee2cf7-8541-4288-b41a-a3c116f32c18\">\n",
              "    <div class=\"colab-df-container\">\n",
              "      <div>\n",
              "<style scoped>\n",
              "    .dataframe tbody tr th:only-of-type {\n",
              "        vertical-align: middle;\n",
              "    }\n",
              "\n",
              "    .dataframe tbody tr th {\n",
              "        vertical-align: top;\n",
              "    }\n",
              "\n",
              "    .dataframe thead th {\n",
              "        text-align: right;\n",
              "    }\n",
              "</style>\n",
              "<table border=\"1\" class=\"dataframe\">\n",
              "  <thead>\n",
              "    <tr style=\"text-align: right;\">\n",
              "      <th></th>\n",
              "      <th>filename</th>\n",
              "      <th>age</th>\n",
              "      <th>target</th>\n",
              "    </tr>\n",
              "  </thead>\n",
              "  <tbody>\n",
              "    <tr>\n",
              "      <th>0</th>\n",
              "      <td>/content/content/combined_faces/8_163.jpg</td>\n",
              "      <td>8</td>\n",
              "      <td>1</td>\n",
              "    </tr>\n",
              "    <tr>\n",
              "      <th>1</th>\n",
              "      <td>/content/content/combined_faces/38_66.jpg</td>\n",
              "      <td>38</td>\n",
              "      <td>4</td>\n",
              "    </tr>\n",
              "    <tr>\n",
              "      <th>2</th>\n",
              "      <td>/content/content/combined_faces/40_177.jpg</td>\n",
              "      <td>40</td>\n",
              "      <td>4</td>\n",
              "    </tr>\n",
              "    <tr>\n",
              "      <th>3</th>\n",
              "      <td>/content/content/combined_faces/36_267.jpg</td>\n",
              "      <td>36</td>\n",
              "      <td>4</td>\n",
              "    </tr>\n",
              "    <tr>\n",
              "      <th>4</th>\n",
              "      <td>/content/content/combined_faces/8_349.jpg</td>\n",
              "      <td>8</td>\n",
              "      <td>1</td>\n",
              "    </tr>\n",
              "  </tbody>\n",
              "</table>\n",
              "</div>\n",
              "      <button class=\"colab-df-convert\" onclick=\"convertToInteractive('df-2eee2cf7-8541-4288-b41a-a3c116f32c18')\"\n",
              "              title=\"Convert this dataframe to an interactive table.\"\n",
              "              style=\"display:none;\">\n",
              "        \n",
              "  <svg xmlns=\"http://www.w3.org/2000/svg\" height=\"24px\"viewBox=\"0 0 24 24\"\n",
              "       width=\"24px\">\n",
              "    <path d=\"M0 0h24v24H0V0z\" fill=\"none\"/>\n",
              "    <path d=\"M18.56 5.44l.94 2.06.94-2.06 2.06-.94-2.06-.94-.94-2.06-.94 2.06-2.06.94zm-11 1L8.5 8.5l.94-2.06 2.06-.94-2.06-.94L8.5 2.5l-.94 2.06-2.06.94zm10 10l.94 2.06.94-2.06 2.06-.94-2.06-.94-.94-2.06-.94 2.06-2.06.94z\"/><path d=\"M17.41 7.96l-1.37-1.37c-.4-.4-.92-.59-1.43-.59-.52 0-1.04.2-1.43.59L10.3 9.45l-7.72 7.72c-.78.78-.78 2.05 0 2.83L4 21.41c.39.39.9.59 1.41.59.51 0 1.02-.2 1.41-.59l7.78-7.78 2.81-2.81c.8-.78.8-2.07 0-2.86zM5.41 20L4 18.59l7.72-7.72 1.47 1.35L5.41 20z\"/>\n",
              "  </svg>\n",
              "      </button>\n",
              "      \n",
              "  <style>\n",
              "    .colab-df-container {\n",
              "      display:flex;\n",
              "      flex-wrap:wrap;\n",
              "      gap: 12px;\n",
              "    }\n",
              "\n",
              "    .colab-df-convert {\n",
              "      background-color: #E8F0FE;\n",
              "      border: none;\n",
              "      border-radius: 50%;\n",
              "      cursor: pointer;\n",
              "      display: none;\n",
              "      fill: #1967D2;\n",
              "      height: 32px;\n",
              "      padding: 0 0 0 0;\n",
              "      width: 32px;\n",
              "    }\n",
              "\n",
              "    .colab-df-convert:hover {\n",
              "      background-color: #E2EBFA;\n",
              "      box-shadow: 0px 1px 2px rgba(60, 64, 67, 0.3), 0px 1px 3px 1px rgba(60, 64, 67, 0.15);\n",
              "      fill: #174EA6;\n",
              "    }\n",
              "\n",
              "    [theme=dark] .colab-df-convert {\n",
              "      background-color: #3B4455;\n",
              "      fill: #D2E3FC;\n",
              "    }\n",
              "\n",
              "    [theme=dark] .colab-df-convert:hover {\n",
              "      background-color: #434B5C;\n",
              "      box-shadow: 0px 1px 3px 1px rgba(0, 0, 0, 0.15);\n",
              "      filter: drop-shadow(0px 1px 2px rgba(0, 0, 0, 0.3));\n",
              "      fill: #FFFFFF;\n",
              "    }\n",
              "  </style>\n",
              "\n",
              "      <script>\n",
              "        const buttonEl =\n",
              "          document.querySelector('#df-2eee2cf7-8541-4288-b41a-a3c116f32c18 button.colab-df-convert');\n",
              "        buttonEl.style.display =\n",
              "          google.colab.kernel.accessAllowed ? 'block' : 'none';\n",
              "\n",
              "        async function convertToInteractive(key) {\n",
              "          const element = document.querySelector('#df-2eee2cf7-8541-4288-b41a-a3c116f32c18');\n",
              "          const dataTable =\n",
              "            await google.colab.kernel.invokeFunction('convertToInteractive',\n",
              "                                                     [key], {});\n",
              "          if (!dataTable) return;\n",
              "\n",
              "          const docLinkHtml = 'Like what you see? Visit the ' +\n",
              "            '<a target=\"_blank\" href=https://colab.research.google.com/notebooks/data_table.ipynb>data table notebook</a>'\n",
              "            + ' to learn more about interactive tables.';\n",
              "          element.innerHTML = '';\n",
              "          dataTable['output_type'] = 'display_data';\n",
              "          await google.colab.output.renderOutput(dataTable, element);\n",
              "          const docLink = document.createElement('div');\n",
              "          docLink.innerHTML = docLinkHtml;\n",
              "          element.appendChild(docLink);\n",
              "        }\n",
              "      </script>\n",
              "    </div>\n",
              "  </div>\n",
              "  "
            ]
          },
          "metadata": {},
          "execution_count": 13
        }
      ]
    },
    {
      "cell_type": "code",
      "source": [
        "# Converting the filenames and target class labels into lists for augmented train and test datasets.\n",
        "\n",
        "train_aug_filenames_list = list(train_aug_df['filename'])\n",
        "train_aug_labels_list = list(train_aug_df['target'])\n",
        "\n",
        "test_filenames_list = list(test_df['filename'])\n",
        "test_labels_list = list(test_df['target'])"
      ],
      "metadata": {
        "id": "9IxyucXEDXzQ"
      },
      "execution_count": 14,
      "outputs": []
    },
    {
      "cell_type": "code",
      "source": [
        "# Creating tensorflow constants of filenames and labels for augmented train and test datasets from the lists defined above.\n",
        "\n",
        "train_aug_filenames_tensor = tf.constant(train_aug_filenames_list)\n",
        "train_aug_labels_tensor = tf.constant(train_aug_labels_list)\n",
        "\n",
        "test_filenames_tensor = tf.constant(test_filenames_list)\n",
        "test_labels_tensor = tf.constant(test_labels_list)"
      ],
      "metadata": {
        "id": "w7PLletxDY_y"
      },
      "execution_count": 15,
      "outputs": []
    },
    {
      "cell_type": "code",
      "source": [
        "# Defining a function to read the image, decode the image from given tensor and one-hot encode the image label class.\n",
        "# Changing the channels para in tf.io.decode_jpeg from 3 to 1 changes the output images from RGB coloured to grayscale.\n",
        "\n",
        "num_classes = 7\n",
        "\n",
        "def _parse_function(filename, label):\n",
        "    \n",
        "    image_string = tf.io.read_file(filename)\n",
        "    image_decoded = tf.io.decode_jpeg(image_string, channels=1)    # channels=1 to convert to grayscale, channels=3 to convert to RGB.\n",
        "    # image_resized = tf.image.resize(image_decoded, [200, 200])\n",
        "    label = tf.one_hot(label, num_classes)\n",
        "\n",
        "    return image_decoded, label"
      ],
      "metadata": {
        "id": "Tg0g_i4lDaLh"
      },
      "execution_count": 16,
      "outputs": []
    },
    {
      "cell_type": "code",
      "source": [
        "# Getting the dataset ready for the neural network.\n",
        "# Using the tensor vectors defined above, accessing the images in the dataset and passing them through the function defined above.\n",
        "\n",
        "train_aug_dataset = tf.data.Dataset.from_tensor_slices((train_aug_filenames_tensor, train_aug_labels_tensor))\n",
        "train_aug_dataset = train_aug_dataset.map(_parse_function)\n",
        "# train_aug_dataset = train_aug_dataset.repeat(3)\n",
        "train_aug_dataset = train_aug_dataset.batch(512)    # Same as batch_size hyperparameter in model.fit() below.\n",
        "\n",
        "test_dataset = tf.data.Dataset.from_tensor_slices((test_filenames_tensor, test_labels_tensor))\n",
        "test_dataset = test_dataset.map(_parse_function)\n",
        "# test_dataset = test_dataset.repeat(3)\n",
        "test_dataset = test_dataset.batch(512)    # Same as batch_size hyperparameter in model.fit() below."
      ],
      "metadata": {
        "id": "ySRjOyCSDbK-"
      },
      "execution_count": 17,
      "outputs": []
    },
    {
      "cell_type": "code",
      "source": [
        "# Defining the architecture of the sequential neural network.\n",
        "\n",
        "final_cnn = Sequential()\n",
        "\n",
        "# Input layer with 32 filters, followed by an AveragePooling2D layer.\n",
        "final_cnn.add(Conv2D(filters=32, kernel_size=3, activation='relu', input_shape=(200, 200, 1)))    # 3rd dim = 1 for grayscale images.\n",
        "final_cnn.add(AveragePooling2D(pool_size=(2,2)))\n",
        "\n",
        "# Three Conv2D layers with filters increasing by a factor of 2 for every successive Conv2D layer.\n",
        "final_cnn.add(Conv2D(filters=64, kernel_size=3, activation='relu'))\n",
        "final_cnn.add(AveragePooling2D(pool_size=(2,2)))\n",
        "\n",
        "final_cnn.add(Conv2D(filters=128, kernel_size=3, activation='relu'))\n",
        "final_cnn.add(AveragePooling2D(pool_size=(2,2)))\n",
        "\n",
        "final_cnn.add(Conv2D(filters=256, kernel_size=3, activation='relu'))\n",
        "final_cnn.add(AveragePooling2D(pool_size=(2,2)))\n",
        "\n",
        "# A GlobalAveragePooling2D layer before going into Dense layers below.\n",
        "# GlobalAveragePooling2D layer gives no. of outputs equal to no. of filters in last Conv2D layer above (256).\n",
        "final_cnn.add(GlobalAveragePooling2D())\n",
        "\n",
        "# One Dense layer with 132 nodes so as to taper down the no. of nodes from no. of outputs of GlobalAveragePooling2D layer above towards no. of nodes in output layer below (7).\n",
        "final_cnn.add(Dense(132, activation='relu'))\n",
        "\n",
        "# Output layer with 7 nodes (equal to the no. of classes).\n",
        "final_cnn.add(Dense(7, activation='softmax'))\n",
        "\n",
        "final_cnn.summary()"
      ],
      "metadata": {
        "colab": {
          "base_uri": "https://localhost:8080/"
        },
        "id": "VH0l6vjJDcFu",
        "outputId": "b3e3942b-2e1c-4c4e-9f57-72cfbc70270c"
      },
      "execution_count": 18,
      "outputs": [
        {
          "output_type": "stream",
          "name": "stdout",
          "text": [
            "Model: \"sequential\"\n",
            "_________________________________________________________________\n",
            " Layer (type)                Output Shape              Param #   \n",
            "=================================================================\n",
            " conv2d (Conv2D)             (None, 198, 198, 32)      320       \n",
            "                                                                 \n",
            " average_pooling2d (AverageP  (None, 99, 99, 32)       0         \n",
            " ooling2D)                                                       \n",
            "                                                                 \n",
            " conv2d_1 (Conv2D)           (None, 97, 97, 64)        18496     \n",
            "                                                                 \n",
            " average_pooling2d_1 (Averag  (None, 48, 48, 64)       0         \n",
            " ePooling2D)                                                     \n",
            "                                                                 \n",
            " conv2d_2 (Conv2D)           (None, 46, 46, 128)       73856     \n",
            "                                                                 \n",
            " average_pooling2d_2 (Averag  (None, 23, 23, 128)      0         \n",
            " ePooling2D)                                                     \n",
            "                                                                 \n",
            " conv2d_3 (Conv2D)           (None, 21, 21, 256)       295168    \n",
            "                                                                 \n",
            " average_pooling2d_3 (Averag  (None, 10, 10, 256)      0         \n",
            " ePooling2D)                                                     \n",
            "                                                                 \n",
            " global_average_pooling2d (G  (None, 256)              0         \n",
            " lobalAveragePooling2D)                                          \n",
            "                                                                 \n",
            " dense (Dense)               (None, 132)               33924     \n",
            "                                                                 \n",
            " dense_1 (Dense)             (None, 7)                 931       \n",
            "                                                                 \n",
            "=================================================================\n",
            "Total params: 422,695\n",
            "Trainable params: 422,695\n",
            "Non-trainable params: 0\n",
            "_________________________________________________________________\n"
          ]
        }
      ]
    },
    {
      "cell_type": "code",
      "source": [
        "# Compiling the above created CNN architecture.\n",
        "\n",
        "final_cnn.compile(loss='categorical_crossentropy', optimizer='adam', metrics=['accuracy'])"
      ],
      "metadata": {
        "id": "SGye9qjjDdDU"
      },
      "execution_count": 19,
      "outputs": []
    },
    {
      "cell_type": "code",
      "source": [
        "# Creating a TensorBoard callback object and saving it at the desired location.\n",
        "\n",
        "tensorboard = TensorBoard(log_dir=f\"/content/drive/MyDrive/ProjectAI/Age_input_output/output/cnn_logs\")"
      ],
      "metadata": {
        "id": "9e13mulHDeQ7"
      },
      "execution_count": 20,
      "outputs": []
    },
    {
      "cell_type": "code",
      "source": [
        "# Creating a ModelCheckpoint callback object to save the model according to the value of val_accuracy.\n",
        "\n",
        "checkpoint = ModelCheckpoint(filepath=f\"/content/drive/MyDrive/ProjectAI/Age_input_output/output/cnn_logs/age_model_checkpoint.h5\",\n",
        "                             monitor='val_accuracy',\n",
        "                             save_best_only=True,\n",
        "                             save_weights_only=False,\n",
        "                             verbose=1\n",
        "                            )"
      ],
      "metadata": {
        "id": "3XfYS-msDm0d"
      },
      "execution_count": 21,
      "outputs": []
    },
    {
      "cell_type": "code",
      "source": [
        "# Fitting the above created CNN model.\n",
        "\n",
        "final_cnn_history = final_cnn.fit(train_aug_dataset,\n",
        "                                  batch_size=512,\n",
        "                                  validation_data=test_dataset,\n",
        "                                  epochs=50,\n",
        "                                  callbacks=[tensorboard, checkpoint],\n",
        "                                  shuffle=False    # shuffle=False to reduce randomness and increase reproducibility\n",
        "                                 )"
      ],
      "metadata": {
        "colab": {
          "base_uri": "https://localhost:8080/"
        },
        "id": "D5V6aOouDwJ1",
        "outputId": "343ee95f-184b-4deb-a09e-bc758062ffb8"
      },
      "execution_count": 22,
      "outputs": [
        {
          "output_type": "stream",
          "name": "stdout",
          "text": [
            "Epoch 1/50\n",
            "458/458 [==============================] - ETA: 0s - loss: 1.7861 - accuracy: 0.3069\n",
            "Epoch 1: val_accuracy improved from -inf to 0.37079, saving model to /content/drive/MyDrive/ProjectAI/Age_input_output/output/cnn_logs/age_model_checkpoint.h5\n",
            "458/458 [==============================] - 343s 709ms/step - loss: 1.7861 - accuracy: 0.3069 - val_loss: 1.5961 - val_accuracy: 0.3708\n",
            "Epoch 2/50\n",
            "458/458 [==============================] - ETA: 0s - loss: 1.5941 - accuracy: 0.3638\n",
            "Epoch 2: val_accuracy improved from 0.37079 to 0.40504, saving model to /content/drive/MyDrive/ProjectAI/Age_input_output/output/cnn_logs/age_model_checkpoint.h5\n",
            "458/458 [==============================] - 308s 671ms/step - loss: 1.5941 - accuracy: 0.3638 - val_loss: 1.4558 - val_accuracy: 0.4050\n",
            "Epoch 3/50\n",
            "458/458 [==============================] - ETA: 0s - loss: 1.4337 - accuracy: 0.4198\n",
            "Epoch 3: val_accuracy improved from 0.40504 to 0.45590, saving model to /content/drive/MyDrive/ProjectAI/Age_input_output/output/cnn_logs/age_model_checkpoint.h5\n",
            "458/458 [==============================] - 306s 666ms/step - loss: 1.4337 - accuracy: 0.4198 - val_loss: 1.3208 - val_accuracy: 0.4559\n",
            "Epoch 4/50\n",
            "458/458 [==============================] - ETA: 0s - loss: 1.2833 - accuracy: 0.4752\n",
            "Epoch 4: val_accuracy improved from 0.45590 to 0.50229, saving model to /content/drive/MyDrive/ProjectAI/Age_input_output/output/cnn_logs/age_model_checkpoint.h5\n",
            "458/458 [==============================] - 306s 667ms/step - loss: 1.2833 - accuracy: 0.4752 - val_loss: 1.2031 - val_accuracy: 0.5023\n",
            "Epoch 5/50\n",
            "458/458 [==============================] - ETA: 0s - loss: 1.1360 - accuracy: 0.5294\n",
            "Epoch 5: val_accuracy improved from 0.50229 to 0.52668, saving model to /content/drive/MyDrive/ProjectAI/Age_input_output/output/cnn_logs/age_model_checkpoint.h5\n",
            "458/458 [==============================] - 309s 673ms/step - loss: 1.1360 - accuracy: 0.5294 - val_loss: 1.1263 - val_accuracy: 0.5267\n",
            "Epoch 6/50\n",
            "458/458 [==============================] - ETA: 0s - loss: 1.0507 - accuracy: 0.5624\n",
            "Epoch 6: val_accuracy improved from 0.52668 to 0.58561, saving model to /content/drive/MyDrive/ProjectAI/Age_input_output/output/cnn_logs/age_model_checkpoint.h5\n",
            "458/458 [==============================] - 307s 670ms/step - loss: 1.0507 - accuracy: 0.5624 - val_loss: 1.0013 - val_accuracy: 0.5856\n",
            "Epoch 7/50\n",
            "458/458 [==============================] - ETA: 0s - loss: 0.9919 - accuracy: 0.5839\n",
            "Epoch 7: val_accuracy improved from 0.58561 to 0.60193, saving model to /content/drive/MyDrive/ProjectAI/Age_input_output/output/cnn_logs/age_model_checkpoint.h5\n",
            "458/458 [==============================] - 308s 672ms/step - loss: 0.9919 - accuracy: 0.5839 - val_loss: 0.9578 - val_accuracy: 0.6019\n",
            "Epoch 8/50\n",
            "458/458 [==============================] - ETA: 0s - loss: 0.9441 - accuracy: 0.6028\n",
            "Epoch 8: val_accuracy improved from 0.60193 to 0.60870, saving model to /content/drive/MyDrive/ProjectAI/Age_input_output/output/cnn_logs/age_model_checkpoint.h5\n",
            "458/458 [==============================] - 309s 675ms/step - loss: 0.9441 - accuracy: 0.6028 - val_loss: 0.9220 - val_accuracy: 0.6087\n",
            "Epoch 9/50\n",
            "458/458 [==============================] - ETA: 0s - loss: 0.9091 - accuracy: 0.6158\n",
            "Epoch 9: val_accuracy improved from 0.60870 to 0.62692, saving model to /content/drive/MyDrive/ProjectAI/Age_input_output/output/cnn_logs/age_model_checkpoint.h5\n",
            "458/458 [==============================] - 309s 673ms/step - loss: 0.9091 - accuracy: 0.6158 - val_loss: 0.8947 - val_accuracy: 0.6269\n",
            "Epoch 10/50\n",
            "458/458 [==============================] - ETA: 0s - loss: 0.8742 - accuracy: 0.6308\n",
            "Epoch 10: val_accuracy improved from 0.62692 to 0.63597, saving model to /content/drive/MyDrive/ProjectAI/Age_input_output/output/cnn_logs/age_model_checkpoint.h5\n",
            "458/458 [==============================] - 308s 672ms/step - loss: 0.8742 - accuracy: 0.6308 - val_loss: 0.8680 - val_accuracy: 0.6360\n",
            "Epoch 11/50\n",
            "458/458 [==============================] - ETA: 0s - loss: 0.8413 - accuracy: 0.6438\n",
            "Epoch 11: val_accuracy improved from 0.63597 to 0.65369, saving model to /content/drive/MyDrive/ProjectAI/Age_input_output/output/cnn_logs/age_model_checkpoint.h5\n",
            "458/458 [==============================] - 308s 671ms/step - loss: 0.8413 - accuracy: 0.6438 - val_loss: 0.8223 - val_accuracy: 0.6537\n",
            "Epoch 12/50\n",
            "458/458 [==============================] - ETA: 0s - loss: 0.8128 - accuracy: 0.6558\n",
            "Epoch 12: val_accuracy improved from 0.65369 to 0.65519, saving model to /content/drive/MyDrive/ProjectAI/Age_input_output/output/cnn_logs/age_model_checkpoint.h5\n",
            "458/458 [==============================] - 308s 672ms/step - loss: 0.8128 - accuracy: 0.6558 - val_loss: 0.8112 - val_accuracy: 0.6552\n",
            "Epoch 13/50\n",
            "458/458 [==============================] - ETA: 0s - loss: 0.7889 - accuracy: 0.6665\n",
            "Epoch 13: val_accuracy improved from 0.65519 to 0.67300, saving model to /content/drive/MyDrive/ProjectAI/Age_input_output/output/cnn_logs/age_model_checkpoint.h5\n",
            "458/458 [==============================] - 310s 677ms/step - loss: 0.7889 - accuracy: 0.6665 - val_loss: 0.7794 - val_accuracy: 0.6730\n",
            "Epoch 14/50\n",
            "458/458 [==============================] - ETA: 0s - loss: 0.7656 - accuracy: 0.6763\n",
            "Epoch 14: val_accuracy improved from 0.67300 to 0.68286, saving model to /content/drive/MyDrive/ProjectAI/Age_input_output/output/cnn_logs/age_model_checkpoint.h5\n",
            "458/458 [==============================] - 308s 671ms/step - loss: 0.7656 - accuracy: 0.6763 - val_loss: 0.7617 - val_accuracy: 0.6829\n",
            "Epoch 15/50\n",
            "458/458 [==============================] - ETA: 0s - loss: 0.7431 - accuracy: 0.6869\n",
            "Epoch 15: val_accuracy improved from 0.68286 to 0.69381, saving model to /content/drive/MyDrive/ProjectAI/Age_input_output/output/cnn_logs/age_model_checkpoint.h5\n",
            "458/458 [==============================] - 310s 677ms/step - loss: 0.7431 - accuracy: 0.6869 - val_loss: 0.7348 - val_accuracy: 0.6938\n",
            "Epoch 16/50\n",
            "458/458 [==============================] - ETA: 0s - loss: 0.7228 - accuracy: 0.6951\n",
            "Epoch 16: val_accuracy did not improve from 0.69381\n",
            "458/458 [==============================] - 307s 669ms/step - loss: 0.7228 - accuracy: 0.6951 - val_loss: 0.7453 - val_accuracy: 0.6896\n",
            "Epoch 17/50\n",
            "458/458 [==============================] - ETA: 0s - loss: 0.7012 - accuracy: 0.7049\n",
            "Epoch 17: val_accuracy improved from 0.69381 to 0.70098, saving model to /content/drive/MyDrive/ProjectAI/Age_input_output/output/cnn_logs/age_model_checkpoint.h5\n",
            "458/458 [==============================] - 310s 677ms/step - loss: 0.7012 - accuracy: 0.7049 - val_loss: 0.7166 - val_accuracy: 0.7010\n",
            "Epoch 18/50\n",
            "458/458 [==============================] - ETA: 0s - loss: 0.6762 - accuracy: 0.7160\n",
            "Epoch 18: val_accuracy improved from 0.70098 to 0.70755, saving model to /content/drive/MyDrive/ProjectAI/Age_input_output/output/cnn_logs/age_model_checkpoint.h5\n",
            "458/458 [==============================] - 309s 673ms/step - loss: 0.6762 - accuracy: 0.7160 - val_loss: 0.7031 - val_accuracy: 0.7075\n",
            "Epoch 19/50\n",
            "458/458 [==============================] - ETA: 0s - loss: 0.6602 - accuracy: 0.7224\n",
            "Epoch 19: val_accuracy improved from 0.70755 to 0.71023, saving model to /content/drive/MyDrive/ProjectAI/Age_input_output/output/cnn_logs/age_model_checkpoint.h5\n",
            "458/458 [==============================] - 309s 674ms/step - loss: 0.6602 - accuracy: 0.7224 - val_loss: 0.7038 - val_accuracy: 0.7102\n",
            "Epoch 20/50\n",
            "458/458 [==============================] - ETA: 0s - loss: 0.6514 - accuracy: 0.7259\n",
            "Epoch 20: val_accuracy did not improve from 0.71023\n",
            "458/458 [==============================] - 310s 675ms/step - loss: 0.6514 - accuracy: 0.7259 - val_loss: 0.6995 - val_accuracy: 0.7089\n",
            "Epoch 21/50\n",
            "458/458 [==============================] - ETA: 0s - loss: 0.6301 - accuracy: 0.7358\n",
            "Epoch 21: val_accuracy improved from 0.71023 to 0.72158, saving model to /content/drive/MyDrive/ProjectAI/Age_input_output/output/cnn_logs/age_model_checkpoint.h5\n",
            "458/458 [==============================] - 308s 672ms/step - loss: 0.6301 - accuracy: 0.7358 - val_loss: 0.6748 - val_accuracy: 0.7216\n",
            "Epoch 22/50\n",
            "458/458 [==============================] - ETA: 0s - loss: 0.6064 - accuracy: 0.7458\n",
            "Epoch 22: val_accuracy improved from 0.72158 to 0.72616, saving model to /content/drive/MyDrive/ProjectAI/Age_input_output/output/cnn_logs/age_model_checkpoint.h5\n",
            "458/458 [==============================] - 308s 671ms/step - loss: 0.6064 - accuracy: 0.7458 - val_loss: 0.6651 - val_accuracy: 0.7262\n",
            "Epoch 23/50\n",
            "458/458 [==============================] - ETA: 0s - loss: 0.5850 - accuracy: 0.7562\n",
            "Epoch 23: val_accuracy improved from 0.72616 to 0.73303, saving model to /content/drive/MyDrive/ProjectAI/Age_input_output/output/cnn_logs/age_model_checkpoint.h5\n",
            "458/458 [==============================] - 308s 671ms/step - loss: 0.5850 - accuracy: 0.7562 - val_loss: 0.6608 - val_accuracy: 0.7330\n",
            "Epoch 24/50\n",
            "458/458 [==============================] - ETA: 0s - loss: 0.5629 - accuracy: 0.7655\n",
            "Epoch 24: val_accuracy improved from 0.73303 to 0.73731, saving model to /content/drive/MyDrive/ProjectAI/Age_input_output/output/cnn_logs/age_model_checkpoint.h5\n",
            "458/458 [==============================] - 311s 677ms/step - loss: 0.5629 - accuracy: 0.7655 - val_loss: 0.6514 - val_accuracy: 0.7373\n",
            "Epoch 25/50\n",
            "458/458 [==============================] - ETA: 0s - loss: 0.5487 - accuracy: 0.7723\n",
            "Epoch 25: val_accuracy did not improve from 0.73731\n",
            "458/458 [==============================] - 310s 675ms/step - loss: 0.5487 - accuracy: 0.7723 - val_loss: 0.6527 - val_accuracy: 0.7349\n",
            "Epoch 26/50\n",
            "458/458 [==============================] - ETA: 0s - loss: 0.5360 - accuracy: 0.7770\n",
            "Epoch 26: val_accuracy improved from 0.73731 to 0.75204, saving model to /content/drive/MyDrive/ProjectAI/Age_input_output/output/cnn_logs/age_model_checkpoint.h5\n",
            "458/458 [==============================] - 308s 672ms/step - loss: 0.5360 - accuracy: 0.7770 - val_loss: 0.6132 - val_accuracy: 0.7520\n",
            "Epoch 27/50\n",
            "458/458 [==============================] - ETA: 0s - loss: 0.5160 - accuracy: 0.7859\n",
            "Epoch 27: val_accuracy improved from 0.75204 to 0.75353, saving model to /content/drive/MyDrive/ProjectAI/Age_input_output/output/cnn_logs/age_model_checkpoint.h5\n",
            "458/458 [==============================] - 310s 677ms/step - loss: 0.5160 - accuracy: 0.7859 - val_loss: 0.6097 - val_accuracy: 0.7535\n",
            "Epoch 28/50\n",
            "458/458 [==============================] - ETA: 0s - loss: 0.4967 - accuracy: 0.7944\n",
            "Epoch 28: val_accuracy improved from 0.75353 to 0.75871, saving model to /content/drive/MyDrive/ProjectAI/Age_input_output/output/cnn_logs/age_model_checkpoint.h5\n",
            "458/458 [==============================] - 307s 669ms/step - loss: 0.4967 - accuracy: 0.7944 - val_loss: 0.5928 - val_accuracy: 0.7587\n",
            "Epoch 29/50\n",
            "458/458 [==============================] - ETA: 0s - loss: 0.4857 - accuracy: 0.7993\n",
            "Epoch 29: val_accuracy improved from 0.75871 to 0.76120, saving model to /content/drive/MyDrive/ProjectAI/Age_input_output/output/cnn_logs/age_model_checkpoint.h5\n",
            "458/458 [==============================] - 308s 671ms/step - loss: 0.4857 - accuracy: 0.7993 - val_loss: 0.5956 - val_accuracy: 0.7612\n",
            "Epoch 30/50\n",
            "458/458 [==============================] - ETA: 0s - loss: 0.4887 - accuracy: 0.7980\n",
            "Epoch 30: val_accuracy did not improve from 0.76120\n",
            "458/458 [==============================] - 310s 675ms/step - loss: 0.4887 - accuracy: 0.7980 - val_loss: 0.6889 - val_accuracy: 0.7265\n",
            "Epoch 31/50\n",
            "458/458 [==============================] - ETA: 0s - loss: 0.4821 - accuracy: 0.8003\n",
            "Epoch 31: val_accuracy did not improve from 0.76120\n",
            "458/458 [==============================] - 310s 675ms/step - loss: 0.4821 - accuracy: 0.8003 - val_loss: 0.6192 - val_accuracy: 0.7576\n",
            "Epoch 32/50\n",
            "458/458 [==============================] - ETA: 0s - loss: 0.4628 - accuracy: 0.8096\n",
            "Epoch 32: val_accuracy did not improve from 0.76120\n",
            "458/458 [==============================] - 308s 670ms/step - loss: 0.4628 - accuracy: 0.8096 - val_loss: 0.6436 - val_accuracy: 0.7486\n",
            "Epoch 33/50\n",
            "458/458 [==============================] - ETA: 0s - loss: 0.4476 - accuracy: 0.8161\n",
            "Epoch 33: val_accuracy did not improve from 0.76120\n",
            "458/458 [==============================] - 309s 675ms/step - loss: 0.4476 - accuracy: 0.8161 - val_loss: 0.6300 - val_accuracy: 0.7605\n",
            "Epoch 34/50\n",
            "458/458 [==============================] - ETA: 0s - loss: 0.4282 - accuracy: 0.8253\n",
            "Epoch 34: val_accuracy did not improve from 0.76120\n",
            "458/458 [==============================] - 308s 672ms/step - loss: 0.4282 - accuracy: 0.8253 - val_loss: 0.6647 - val_accuracy: 0.7501\n",
            "Epoch 35/50\n",
            "458/458 [==============================] - ETA: 0s - loss: 0.4293 - accuracy: 0.8233\n",
            "Epoch 35: val_accuracy did not improve from 0.76120\n",
            "458/458 [==============================] - 307s 669ms/step - loss: 0.4293 - accuracy: 0.8233 - val_loss: 0.7024 - val_accuracy: 0.7425\n",
            "Epoch 36/50\n",
            "458/458 [==============================] - ETA: 0s - loss: 0.4181 - accuracy: 0.8274\n",
            "Epoch 36: val_accuracy did not improve from 0.76120\n",
            "458/458 [==============================] - 309s 675ms/step - loss: 0.4181 - accuracy: 0.8274 - val_loss: 0.6528 - val_accuracy: 0.7592\n",
            "Epoch 37/50\n",
            "458/458 [==============================] - ETA: 0s - loss: 0.3955 - accuracy: 0.8379\n",
            "Epoch 37: val_accuracy improved from 0.76120 to 0.76289, saving model to /content/drive/MyDrive/ProjectAI/Age_input_output/output/cnn_logs/age_model_checkpoint.h5\n",
            "458/458 [==============================] - 311s 677ms/step - loss: 0.3955 - accuracy: 0.8379 - val_loss: 0.6530 - val_accuracy: 0.7629\n",
            "Epoch 38/50\n",
            "458/458 [==============================] - ETA: 0s - loss: 0.3809 - accuracy: 0.8445\n",
            "Epoch 38: val_accuracy improved from 0.76289 to 0.76926, saving model to /content/drive/MyDrive/ProjectAI/Age_input_output/output/cnn_logs/age_model_checkpoint.h5\n",
            "458/458 [==============================] - 308s 671ms/step - loss: 0.3809 - accuracy: 0.8445 - val_loss: 0.6493 - val_accuracy: 0.7693\n",
            "Epoch 39/50\n",
            "458/458 [==============================] - ETA: 0s - loss: 0.3767 - accuracy: 0.8462\n",
            "Epoch 39: val_accuracy improved from 0.76926 to 0.78071, saving model to /content/drive/MyDrive/ProjectAI/Age_input_output/output/cnn_logs/age_model_checkpoint.h5\n",
            "458/458 [==============================] - 308s 672ms/step - loss: 0.3767 - accuracy: 0.8462 - val_loss: 0.6145 - val_accuracy: 0.7807\n",
            "Epoch 40/50\n",
            "458/458 [==============================] - ETA: 0s - loss: 0.3862 - accuracy: 0.8425\n",
            "Epoch 40: val_accuracy did not improve from 0.78071\n",
            "458/458 [==============================] - 307s 670ms/step - loss: 0.3862 - accuracy: 0.8425 - val_loss: 0.6666 - val_accuracy: 0.7642\n",
            "Epoch 41/50\n",
            "458/458 [==============================] - ETA: 0s - loss: 0.3871 - accuracy: 0.8415\n",
            "Epoch 41: val_accuracy did not improve from 0.78071\n",
            "458/458 [==============================] - 308s 671ms/step - loss: 0.3871 - accuracy: 0.8415 - val_loss: 0.6810 - val_accuracy: 0.7620\n",
            "Epoch 42/50\n",
            "458/458 [==============================] - ETA: 0s - loss: 0.3736 - accuracy: 0.8472\n",
            "Epoch 42: val_accuracy did not improve from 0.78071\n",
            "458/458 [==============================] - 309s 675ms/step - loss: 0.3736 - accuracy: 0.8472 - val_loss: 0.6706 - val_accuracy: 0.7724\n",
            "Epoch 43/50\n",
            "458/458 [==============================] - ETA: 0s - loss: 0.3538 - accuracy: 0.8560\n",
            "Epoch 43: val_accuracy did not improve from 0.78071\n",
            "458/458 [==============================] - 310s 675ms/step - loss: 0.3538 - accuracy: 0.8560 - val_loss: 0.7704 - val_accuracy: 0.7487\n",
            "Epoch 44/50\n",
            "458/458 [==============================] - ETA: 0s - loss: 0.3340 - accuracy: 0.8649\n",
            "Epoch 44: val_accuracy did not improve from 0.78071\n",
            "458/458 [==============================] - 309s 675ms/step - loss: 0.3340 - accuracy: 0.8649 - val_loss: 0.7670 - val_accuracy: 0.7578\n",
            "Epoch 45/50\n",
            "458/458 [==============================] - ETA: 0s - loss: 0.3107 - accuracy: 0.8750\n",
            "Epoch 45: val_accuracy improved from 0.78071 to 0.78360, saving model to /content/drive/MyDrive/ProjectAI/Age_input_output/output/cnn_logs/age_model_checkpoint.h5\n",
            "458/458 [==============================] - 309s 674ms/step - loss: 0.3107 - accuracy: 0.8750 - val_loss: 0.6706 - val_accuracy: 0.7836\n",
            "Epoch 46/50\n",
            "458/458 [==============================] - ETA: 0s - loss: 0.2983 - accuracy: 0.8799\n",
            "Epoch 46: val_accuracy improved from 0.78360 to 0.79703, saving model to /content/drive/MyDrive/ProjectAI/Age_input_output/output/cnn_logs/age_model_checkpoint.h5\n",
            "458/458 [==============================] - 310s 676ms/step - loss: 0.2983 - accuracy: 0.8799 - val_loss: 0.6356 - val_accuracy: 0.7970\n",
            "Epoch 47/50\n",
            "458/458 [==============================] - ETA: 0s - loss: 0.2890 - accuracy: 0.8841\n",
            "Epoch 47: val_accuracy did not improve from 0.79703\n",
            "458/458 [==============================] - 309s 675ms/step - loss: 0.2890 - accuracy: 0.8841 - val_loss: 0.6917 - val_accuracy: 0.7873\n",
            "Epoch 48/50\n",
            "458/458 [==============================] - ETA: 0s - loss: 0.2957 - accuracy: 0.8802\n",
            "Epoch 48: val_accuracy did not improve from 0.79703\n",
            "458/458 [==============================] - 308s 671ms/step - loss: 0.2957 - accuracy: 0.8802 - val_loss: 0.6792 - val_accuracy: 0.7851\n",
            "Epoch 49/50\n",
            "458/458 [==============================] - ETA: 0s - loss: 0.2992 - accuracy: 0.8790\n",
            "Epoch 49: val_accuracy improved from 0.79703 to 0.80848, saving model to /content/drive/MyDrive/ProjectAI/Age_input_output/output/cnn_logs/age_model_checkpoint.h5\n",
            "458/458 [==============================] - 310s 676ms/step - loss: 0.2992 - accuracy: 0.8790 - val_loss: 0.6173 - val_accuracy: 0.8085\n",
            "Epoch 50/50\n",
            "458/458 [==============================] - ETA: 0s - loss: 0.3175 - accuracy: 0.8719\n",
            "Epoch 50: val_accuracy improved from 0.80848 to 0.81634, saving model to /content/drive/MyDrive/ProjectAI/Age_input_output/output/cnn_logs/age_model_checkpoint.h5\n",
            "458/458 [==============================] - 307s 669ms/step - loss: 0.3175 - accuracy: 0.8719 - val_loss: 0.5703 - val_accuracy: 0.8163\n"
          ]
        }
      ]
    },
    {
      "cell_type": "code",
      "source": [
        "# Checking the train and test loss and accuracy values from the neural network above.\n",
        "\n",
        "train_loss = final_cnn_history.history['loss']\n",
        "test_loss = final_cnn_history.history['val_loss']\n",
        "train_accuracy = final_cnn_history.history['accuracy']\n",
        "test_accuracy = final_cnn_history.history['val_accuracy']"
      ],
      "metadata": {
        "id": "f1bf0EIvD76l"
      },
      "execution_count": 23,
      "outputs": []
    },
    {
      "cell_type": "code",
      "source": [
        "# Plotting a line chart to visualize the loss and accuracy values by epochs.\n",
        "\n",
        "fig, ax = plt.subplots(ncols=2, figsize=(15,7))\n",
        "\n",
        "ax = ax.ravel()\n",
        "\n",
        "ax[0].plot(train_loss, label='Train Loss', color='royalblue', marker='o', markersize=5)\n",
        "ax[0].plot(test_loss, label='Test Loss', color = 'orangered', marker='o', markersize=5)\n",
        "\n",
        "ax[0].set_xlabel('Epochs', fontsize=14)\n",
        "ax[0].set_ylabel('Categorical Crossentropy', fontsize=14)\n",
        "\n",
        "ax[0].legend(fontsize=14)\n",
        "ax[0].tick_params(axis='both', labelsize=12)\n",
        "\n",
        "ax[1].plot(train_accuracy, label='Train Accuracy', color='royalblue', marker='o', markersize=5)\n",
        "ax[1].plot(test_accuracy, label='Test Accuracy', color='orangered', marker='o', markersize=5)\n",
        "\n",
        "ax[1].set_xlabel('Epochs', fontsize=14)\n",
        "ax[1].set_ylabel('Accuracy', fontsize=14)\n",
        "\n",
        "ax[1].legend(fontsize=14)\n",
        "ax[1].tick_params(axis='both', labelsize=12)\n",
        "\n",
        "fig.suptitle(x=0.5, y=0.92, t=\"Lineplots showing loss and accuracy of CNN model by epochs\", fontsize=16)\n",
        "\n",
        "# Exporting plot image in PNG format.\n",
        "plt.savefig('/content/drive/MyDrive/ProjectAI/Age_input_output/output/cnn_logs/final_cnn_loss_accuracy.png', bbox_inches='tight');"
      ],
      "metadata": {
        "colab": {
          "base_uri": "https://localhost:8080/",
          "height": 470
        },
        "id": "A1dV_EZTTM82",
        "outputId": "f823f2fa-2045-49e2-f409-982873f946e8"
      },
      "execution_count": 24,
      "outputs": [
        {
          "output_type": "display_data",
          "data": {
            "text/plain": [
              "<Figure size 1080x504 with 2 Axes>"
            ],
            "image/png": "[encoded data removed]"
          },
          "metadata": {
            "needs_background": "light"
          }
        }
      ]
    },
    {
      "cell_type": "code",
      "source": [
        "# Evaluating the model on test dataset.\n",
        "\n",
        "final_cnn_score = final_cnn.evaluate(test_dataset, verbose=1)"
      ],
      "metadata": {
        "colab": {
          "base_uri": "https://localhost:8080/"
        },
        "id": "5Bc7bmsnTRMQ",
        "outputId": "5abcc442-de49-4776-baac-a34e8c6e63dc"
      },
      "execution_count": 25,
      "outputs": [
        {
          "output_type": "stream",
          "name": "stdout",
          "text": [
            "20/20 [==============================] - 5s 253ms/step - loss: 0.5703 - accuracy: 0.8163\n"
          ]
        }
      ]
    },
    {
      "cell_type": "code",
      "source": [
        "# Printing the relevant score summary.\n",
        "\n",
        "final_cnn_labels = final_cnn.metrics_names\n",
        "print(f'CNN model {final_cnn_labels[0]} \\t\\t= {round(final_cnn_score[0], 3)}')\n",
        "print(f'CNN model {final_cnn_labels[1]} \\t= {round(final_cnn_score[1], 3)}')"
      ],
      "metadata": {
        "colab": {
          "base_uri": "https://localhost:8080/"
        },
        "id": "BZnt8YVjTSlk",
        "outputId": "b93d3f85-b039-4309-ea78-446bbe37ba28"
      },
      "execution_count": 26,
      "outputs": [
        {
          "output_type": "stream",
          "name": "stdout",
          "text": [
            "CNN model loss \t\t= 0.57\n",
            "CNN model accuracy \t= 0.816\n"
          ]
        }
      ]
    },
    {
      "cell_type": "code",
      "source": [
        "# Saving the model as a h5 file for possible use later.\n",
        "\n",
        "final_cnn.save(f\"/content/drive/MyDrive/ProjectAI/Age_input_output/output/age_model_acc_{round(final_cnn_score[1], 3)}.h5\", save_format='h5')"
      ],
      "metadata": {
        "id": "LohQL1UkTTaE"
      },
      "execution_count": 27,
      "outputs": []
    },
    {
      "cell_type": "code",
      "source": [
        "# Generating predictions from the model above.\n",
        "\n",
        "final_cnn_pred = final_cnn.predict(test_dataset)\n",
        "final_cnn_pred = final_cnn_pred.argmax(axis=-1)"
      ],
      "metadata": {
        "id": "t1W2R6ThTWer"
      },
      "execution_count": 28,
      "outputs": []
    },
    {
      "cell_type": "code",
      "source": [
        "# Generating a confusion matrix based on above predictions.\n",
        "\n",
        "conf_mat = confusion_matrix(test_labels_list, final_cnn_pred)\n",
        "conf_mat"
      ],
      "metadata": {
        "colab": {
          "base_uri": "https://localhost:8080/"
        },
        "id": "cqir2ZqjTYEQ",
        "outputId": "661072de-5fd1-416d-b363-7cb43b28e346"
      },
      "execution_count": 29,
      "outputs": [
        {
          "output_type": "execute_result",
          "data": {
            "text/plain": [
              "array([[ 927,   28,    2,    0,    0,    1,    0],\n",
              "       [  26,  793,   20,    2,    3,    1,    0],\n",
              "       [   0,   74,  717,   92,   52,    6,    0],\n",
              "       [   0,    4,   46, 1322,  626,    9,    0],\n",
              "       [   4,   12,   23,  241, 2416,  108,    3],\n",
              "       [   0,    5,    1,   21,  257, 1320,   75],\n",
              "       [   0,    6,    1,    2,   15,   79,  706]])"
            ]
          },
          "metadata": {},
          "execution_count": 29
        }
      ]
    },
    {
      "cell_type": "code",
      "source": [
        "# Defining a function to plot the confusion matrix in a grid for easier visualization.\n",
        "\n",
        "def plot_confusion_matrix(cm, classes, normalize=False, title='Confusion Matrix', export_as='confusion_matrix', cmap=plt.cm.Blues):\n",
        "    \"\"\"\n",
        "    This function prints and plots the confusion matrix.\n",
        "    Normalization can be applied by setting `normalize=True`.\n",
        "    \"\"\"\n",
        "    if normalize:\n",
        "        cm = cm.astype('float') / cm.sum(axis=1)[:, np.newaxis]\n",
        "        print(\"Normalized confusion matrix\")\n",
        "    else:\n",
        "        print('Confusion matrix, without normalization')\n",
        "\n",
        "    # print(cm)\n",
        "\n",
        "    plt.imshow(cm, interpolation='nearest', cmap=cmap)\n",
        "    plt.title(title, fontsize=16)\n",
        "    plt.colorbar()\n",
        "    tick_marks = np.arange(len(classes))\n",
        "    plt.xticks(tick_marks, classes, rotation=45)\n",
        "    plt.yticks(tick_marks, classes)\n",
        "\n",
        "    fmt = '.2f' if normalize else 'd'\n",
        "    thresh = cm.max() / 2.\n",
        "    for i, j in itertools.product(range(cm.shape[0]), range(cm.shape[1])):\n",
        "        plt.text(j, i, format(cm[i, j], fmt), horizontalalignment=\"center\", color=\"white\" if cm[i, j] > thresh else \"black\")\n",
        "\n",
        "    plt.tight_layout()\n",
        "    plt.ylabel('True labels', fontsize=14)\n",
        "    plt.xlabel('Predicted labels', fontsize=14)\n",
        "\n",
        "    # Exporting plot image in PNG format.\n",
        "    plt.savefig(f'/content/drive/MyDrive/ProjectAI/Age_input_output/output/cnn_logs/{export_as}.png', bbox_inches='tight');"
      ],
      "metadata": {
        "id": "ASPIurmnTZ40"
      },
      "execution_count": 30,
      "outputs": []
    },
    {
      "cell_type": "code",
      "source": [
        "# Plotting the confusion matrix using the function defined above.\n",
        "\n",
        "cm_plot_labels = ['1-2', '3-9', '10-20', '21-27', '28-45', '46-65', '66-116']\n",
        "\n",
        "plt.figure(figsize=(16,8))\n",
        "plot_confusion_matrix(conf_mat, cm_plot_labels, normalize=True,\n",
        "                      title=\"Confusion Matrix based on predictions from CNN model\",\n",
        "                      export_as=\"final_cnn_conf_mat_norm\"\n",
        "                     )\n",
        "\n",
        "plt.show()"
      ],
      "metadata": {
        "colab": {
          "base_uri": "https://localhost:8080/",
          "height": 620
        },
        "id": "XOBuwDTdTdwj",
        "outputId": "52cf3621-470f-4690-f812-61c089faf79d"
      },
      "execution_count": 31,
      "outputs": [
        {
          "output_type": "stream",
          "name": "stdout",
          "text": [
            "Normalized confusion matrix\n"
          ]
        },
        {
          "output_type": "display_data",
          "data": {
            "text/plain": [
              "<Figure size 1152x576 with 2 Axes>"
            ],
            "image/png": "[encoded data removed]"
          },
          "metadata": {
            "needs_background": "light"
          }
        }
      ]
    },
    {
      "cell_type": "code",
      "source": [
        "from google.colab import drive\n",
        "drive.mount('/content/drive')\n",
        "!wget -nc https://raw.githubusercontent.com/brpy/colab-pdf/master/colab_pdf.py\n",
        "from colab_pdf import colab_pdf\n",
        "colab_pdf('Age_Model.ipynb')"
      ],
      "metadata": {
        "colab": {
          "base_uri": "https://localhost:8080/",
          "height": 556
        },
        "id": "6fr-EvoXTjxh",
        "outputId": "56a46765-78c3-4411-8b94-03de895be4f6"
      },
      "execution_count": 32,
      "outputs": [
        {
          "output_type": "stream",
          "name": "stdout",
          "text": [
            "Drive already mounted at /content/drive; to attempt to forcibly remount, call drive.mount(\"/content/drive\", force_remount=True).\n",
            "--2022-06-11 19:33:45--  https://raw.githubusercontent.com/brpy/colab-pdf/master/colab_pdf.py\n",
            "Resolving raw.githubusercontent.com (raw.githubusercontent.com)... 185.199.108.133, 185.199.109.133, 185.199.110.133, ...\n",
            "Connecting to raw.githubusercontent.com (raw.githubusercontent.com)|185.199.108.133|:443... connected.\n",
            "HTTP request sent, awaiting response... 200 OK\n",
            "Length: 1864 (1.8K) [text/plain]\n",
            "Saving to: ‘colab_pdf.py’\n",
            "\n",
            "colab_pdf.py        100%[===================>]   1.82K  --.-KB/s    in 0s      \n",
            "\n",
            "2022-06-11 19:33:46 (29.7 MB/s) - ‘colab_pdf.py’ saved [1864/1864]\n",
            "\n",
            "\n",
            "WARNING: apt does not have a stable CLI interface. Use with caution in scripts.\n",
            "\n",
            "\n",
            "WARNING: apt does not have a stable CLI interface. Use with caution in scripts.\n",
            "\n",
            "Extracting templates from packages: 100%\n",
            "[NbConvertApp] Converting notebook /content/drive/MyDrive/Colab Notebooks/Age_Model.ipynb to pdf\n",
            "[NbConvertApp] Support files will be in Age_Model_files/\n",
            "[NbConvertApp] Making directory ./Age_Model_files\n",
            "[NbConvertApp] Making directory ./Age_Model_files\n",
            "[NbConvertApp] Writing 84576 bytes to ./notebook.tex\n",
            "[NbConvertApp] Building PDF\n",
            "[NbConvertApp] Running xelatex 3 times: ['xelatex', './notebook.tex', '-quiet']\n",
            "[NbConvertApp] Running bibtex 1 time: ['bibtex', './notebook']\n",
            "[NbConvertApp] WARNING | bibtex had problems, most likely because there were no citations\n",
            "[NbConvertApp] PDF successfully created\n",
            "[NbConvertApp] Writing 140896 bytes to /content/drive/My Drive/Age_Model.pdf\n"
          ]
        },
        {
          "output_type": "display_data",
          "data": {
            "text/plain": [
              "<IPython.core.display.Javascript object>"
            ],
            "application/javascript": [
              "\n",
              "    async function download(id, filename, size) {\n",
              "      if (!google.colab.kernel.accessAllowed) {\n",
              "        return;\n",
              "      }\n",
              "      const div = document.createElement('div');\n",
              "      const label = document.createElement('label');\n",
              "      label.textContent = `Downloading \"${filename}\": `;\n",
              "      div.appendChild(label);\n",
              "      const progress = document.createElement('progress');\n",
              "      progress.max = size;\n",
              "      div.appendChild(progress);\n",
              "      document.body.appendChild(div);\n",
              "\n",
              "      const buffers = [];\n",
              "      let downloaded = 0;\n",
              "\n",
              "      const channel = await google.colab.kernel.comms.open(id);\n",
              "      // Send a message to notify the kernel that we're ready.\n",
              "      channel.send({})\n",
              "\n",
              "      for await (const message of channel.messages) {\n",
              "        // Send a message to notify the kernel that we're ready.\n",
              "        channel.send({})\n",
              "        if (message.buffers) {\n",
              "          for (const buffer of message.buffers) {\n",
              "            buffers.push(buffer);\n",
              "            downloaded += buffer.byteLength;\n",
              "            progress.value = downloaded;\n",
              "          }\n",
              "        }\n",
              "      }\n",
              "      const blob = new Blob(buffers, {type: 'application/binary'});\n",
              "      const a = document.createElement('a');\n",
              "      a.href = window.URL.createObjectURL(blob);\n",
              "      a.download = filename;\n",
              "      div.appendChild(a);\n",
              "      a.click();\n",
              "      div.remove();\n",
              "    }\n",
              "  "
            ]
          },
          "metadata": {}
        },
        {
          "output_type": "display_data",
          "data": {
            "text/plain": [
              "<IPython.core.display.Javascript object>"
            ],
            "application/javascript": [
              "download(\"download_27f23f87-c50e-4ac6-93f7-a41f224a826a\", \"Age_Model.pdf\", 140896)"
            ]
          },
          "metadata": {}
        },
        {
          "output_type": "execute_result",
          "data": {
            "text/plain": [
              "'File ready to be Downloaded and Saved to Drive'"
            ],
            "application/vnd.google.colaboratory.intrinsic+json": {
              "type": "string"
            }
          },
          "metadata": {},
          "execution_count": 32
        }
      ]
    },
    {
      "cell_type": "code",
      "source": [
        ""
      ],
      "metadata": {
        "id": "JjaxjPXU5RJv"
      },
      "execution_count": null,
      "outputs": []
    }
  ]
}