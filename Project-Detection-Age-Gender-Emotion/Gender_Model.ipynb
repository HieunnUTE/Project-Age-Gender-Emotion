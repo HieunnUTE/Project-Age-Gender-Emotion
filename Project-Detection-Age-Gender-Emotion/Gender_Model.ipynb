{
  "nbformat": 4,
  "nbformat_minor": 0,
  "metadata": {
    "colab": {
      "name": "Gender_Model.ipynb",
      "provenance": []
    },
    "kernelspec": {
      "name": "python3",
      "display_name": "Python 3"
    },
    "language_info": {
      "name": "python"
    },
    "accelerator": "GPU"
  },
  "cells": [
    {
      "cell_type": "code",
      "execution_count": 1,
      "metadata": {
        "colab": {
          "base_uri": "https://localhost:8080/"
        },
        "id": "rGOkFFTc9xyL",
        "outputId": "84bf1eb3-67dd-40e4-ca34-5b45cfc67838"
      },
      "outputs": [
        {
          "output_type": "stream",
          "name": "stdout",
          "text": [
            "Mounted at /content/drive\n"
          ]
        }
      ],
      "source": [
        "from google.colab import drive\n",
        "drive.mount('/content/drive')"
      ]
    },
    {
      "cell_type": "code",
      "source": [
        "%cd /content/drive/MyDrive/ProjectAI/Gender_input_output\n",
        "! ls"
      ],
      "metadata": {
        "colab": {
          "base_uri": "https://localhost:8080/"
        },
        "id": "NRvaAoTY-HgR",
        "outputId": "77e397c5-8bb5-42ea-d525-43d2f8150d2c"
      },
      "execution_count": 2,
      "outputs": [
        {
          "output_type": "stream",
          "name": "stdout",
          "text": [
            "/content/drive/MyDrive/ProjectAI/Gender_input_output\n",
            "input  output\n"
          ]
        }
      ]
    },
    {
      "cell_type": "code",
      "source": [
        "# Imports\n",
        "\n",
        "import pandas as pd\n",
        "import numpy as np\n",
        "\n",
        "import matplotlib.pyplot as plt\n",
        "import cv2\n",
        "import os\n",
        "\n",
        "import tensorflow as tf\n",
        "\n",
        "from google.colab.patches import cv2_imshow\n",
        "import matplotlib.pyplot as plt\n",
        "\n",
        "from keras.models import Sequential,load_model,Model\n",
        "from keras.layers import Conv2D,MaxPooling2D,AvgPool2D,GlobalAveragePooling2D,Dense,Dropout,BatchNormalization,Flatten,Input\n",
        "from sklearn.model_selection import train_test_split\n",
        "\n",
        "\n",
        "from tensorflow.keras.layers import Input,Activation,Add\n",
        "from tensorflow.keras.regularizers import l2\n",
        "from tensorflow.keras.optimizers import Adam\n",
        "from tensorflow.keras.callbacks import ModelCheckpoint"
      ],
      "metadata": {
        "id": "-TGM54N8-Sxh"
      },
      "execution_count": 3,
      "outputs": []
    },
    {
      "cell_type": "code",
      "source": [
        "path = \"./input/UTKFace\"\n",
        "pixels = []\n",
        "age = []\n",
        "gender = [] \n",
        "\n",
        "i=0\n",
        "for img in os.listdir(path):\n",
        "  i=i+1\n",
        "  genders = img.split(\"_\")[1]\n",
        "  img = cv2.imread(str(path)+\"/\"+str(img))\n",
        "  img = cv2.cvtColor(img,cv2.COLOR_BGR2GRAY)\n",
        "  img=cv2.resize(img,(100,100))\n",
        "  pixels.append(np.array(img))\n",
        "  gender.append(np.array(genders))\n",
        "\n",
        "pixels = np.array(pixels)\n",
        "gender = np.array(gender,np.uint64)"
      ],
      "metadata": {
        "id": "frpr-yQj-XmJ"
      },
      "execution_count": 4,
      "outputs": []
    },
    {
      "cell_type": "code",
      "source": [
        "len(pixels)"
      ],
      "metadata": {
        "colab": {
          "base_uri": "https://localhost:8080/"
        },
        "id": "6hlhC-gA-a1D",
        "outputId": "2dce1d63-ef82-4156-eb08-778d48efcded"
      },
      "execution_count": 5,
      "outputs": [
        {
          "output_type": "execute_result",
          "data": {
            "text/plain": [
              "8709"
            ]
          },
          "metadata": {},
          "execution_count": 5
        }
      ]
    },
    {
      "cell_type": "code",
      "source": [
        "len(gender)"
      ],
      "metadata": {
        "colab": {
          "base_uri": "https://localhost:8080/"
        },
        "id": "gafD92Jy-cal",
        "outputId": "399b5394-388c-40a9-8be6-4b3f91800554"
      },
      "execution_count": 6,
      "outputs": [
        {
          "output_type": "execute_result",
          "data": {
            "text/plain": [
              "8709"
            ]
          },
          "metadata": {},
          "execution_count": 6
        }
      ]
    },
    {
      "cell_type": "code",
      "source": [
        "x_train,x_test,y_train,y_test = train_test_split(pixels,gender,random_state=100)"
      ],
      "metadata": {
        "id": "8xOSWDk_-dt9"
      },
      "execution_count": 7,
      "outputs": []
    },
    {
      "cell_type": "code",
      "source": [
        "len(x_train)"
      ],
      "metadata": {
        "colab": {
          "base_uri": "https://localhost:8080/"
        },
        "id": "IsFJFmGY-hHW",
        "outputId": "e4fab1c4-307a-4709-c19a-e4ccbe790de6"
      },
      "execution_count": 8,
      "outputs": [
        {
          "output_type": "execute_result",
          "data": {
            "text/plain": [
              "6531"
            ]
          },
          "metadata": {},
          "execution_count": 8
        }
      ]
    },
    {
      "cell_type": "code",
      "source": [
        "len(x_test)"
      ],
      "metadata": {
        "colab": {
          "base_uri": "https://localhost:8080/"
        },
        "id": "AaU1YgC8-iaX",
        "outputId": "6db0a590-1ba6-42ba-c1af-99ab14b42399"
      },
      "execution_count": 9,
      "outputs": [
        {
          "output_type": "execute_result",
          "data": {
            "text/plain": [
              "2178"
            ]
          },
          "metadata": {},
          "execution_count": 9
        }
      ]
    },
    {
      "cell_type": "code",
      "source": [
        "input = Input(shape = (100,100,1))\n",
        "\n",
        "conv1 = Conv2D(32,(3, 3), padding = 'same', strides=(1, 1), kernel_regularizer=l2(0.001))(input)\n",
        "conv1 = Dropout(0.1)(conv1)\n",
        "conv1 = Activation('relu')(conv1)\n",
        "pool1 = MaxPooling2D(pool_size = (2,2)) (conv1)\n",
        "\n",
        "conv2 = Conv2D(64,(3, 3), padding = 'same', strides=(1, 1), kernel_regularizer=l2(0.001))(pool1)\n",
        "conv2 = Dropout(0.1)(conv2)\n",
        "conv2 = Activation('relu')(conv2)\n",
        "pool2 = MaxPooling2D(pool_size = (2,2)) (conv2)\n",
        "\n",
        "conv3 = Conv2D(128,(3, 3), padding = 'same', strides=(1, 1), kernel_regularizer=l2(0.001))(pool2)\n",
        "conv3 = Dropout(0.1)(conv3)\n",
        "conv3 = Activation('relu')(conv3)\n",
        "pool3 = MaxPooling2D(pool_size = (2,2)) (conv3)\n",
        "\n",
        "conv4 = Conv2D(256,(3, 3), padding = 'same', strides=(1, 1), kernel_regularizer=l2(0.001))(pool3)\n",
        "conv4 = Dropout(0.1)(conv4)\n",
        "conv4 = Activation('relu')(conv4)\n",
        "pool4 = MaxPooling2D(pool_size = (2,2)) (conv4)\n",
        "\n",
        "flatten = Flatten()(pool4)\n",
        "\n",
        "dense_1 = Dense(128,activation='relu')(flatten)\n",
        "\n",
        "drop_1 = Dropout(0.2)(dense_1)\n",
        "\n",
        "output = Dense(2,activation=\"sigmoid\")(drop_1)"
      ],
      "metadata": {
        "id": "qDUAEljt-jaK"
      },
      "execution_count": 10,
      "outputs": []
    },
    {
      "cell_type": "code",
      "source": [
        "model = Model(inputs=input,outputs=output)\n",
        "model.compile(optimizer=\"adam\",loss=[\"sparse_categorical_crossentropy\"],metrics=['accuracy'])\n",
        "model.summary()"
      ],
      "metadata": {
        "colab": {
          "base_uri": "https://localhost:8080/"
        },
        "id": "DurKZRy5-lY7",
        "outputId": "9479380a-dc9c-4f6c-e787-44d72f37cd26"
      },
      "execution_count": 11,
      "outputs": [
        {
          "output_type": "stream",
          "name": "stdout",
          "text": [
            "Model: \"model\"\n",
            "_________________________________________________________________\n",
            " Layer (type)                Output Shape              Param #   \n",
            "=================================================================\n",
            " input_1 (InputLayer)        [(None, 100, 100, 1)]     0         \n",
            "                                                                 \n",
            " conv2d (Conv2D)             (None, 100, 100, 32)      320       \n",
            "                                                                 \n",
            " dropout (Dropout)           (None, 100, 100, 32)      0         \n",
            "                                                                 \n",
            " activation (Activation)     (None, 100, 100, 32)      0         \n",
            "                                                                 \n",
            " max_pooling2d (MaxPooling2D  (None, 50, 50, 32)       0         \n",
            " )                                                               \n",
            "                                                                 \n",
            " conv2d_1 (Conv2D)           (None, 50, 50, 64)        18496     \n",
            "                                                                 \n",
            " dropout_1 (Dropout)         (None, 50, 50, 64)        0         \n",
            "                                                                 \n",
            " activation_1 (Activation)   (None, 50, 50, 64)        0         \n",
            "                                                                 \n",
            " max_pooling2d_1 (MaxPooling  (None, 25, 25, 64)       0         \n",
            " 2D)                                                             \n",
            "                                                                 \n",
            " conv2d_2 (Conv2D)           (None, 25, 25, 128)       73856     \n",
            "                                                                 \n",
            " dropout_2 (Dropout)         (None, 25, 25, 128)       0         \n",
            "                                                                 \n",
            " activation_2 (Activation)   (None, 25, 25, 128)       0         \n",
            "                                                                 \n",
            " max_pooling2d_2 (MaxPooling  (None, 12, 12, 128)      0         \n",
            " 2D)                                                             \n",
            "                                                                 \n",
            " conv2d_3 (Conv2D)           (None, 12, 12, 256)       295168    \n",
            "                                                                 \n",
            " dropout_3 (Dropout)         (None, 12, 12, 256)       0         \n",
            "                                                                 \n",
            " activation_3 (Activation)   (None, 12, 12, 256)       0         \n",
            "                                                                 \n",
            " max_pooling2d_3 (MaxPooling  (None, 6, 6, 256)        0         \n",
            " 2D)                                                             \n",
            "                                                                 \n",
            " flatten (Flatten)           (None, 9216)              0         \n",
            "                                                                 \n",
            " dense (Dense)               (None, 128)               1179776   \n",
            "                                                                 \n",
            " dropout_4 (Dropout)         (None, 128)               0         \n",
            "                                                                 \n",
            " dense_1 (Dense)             (None, 2)                 258       \n",
            "                                                                 \n",
            "=================================================================\n",
            "Total params: 1,567,874\n",
            "Trainable params: 1,567,874\n",
            "Non-trainable params: 0\n",
            "_________________________________________________________________\n"
          ]
        }
      ]
    },
    {
      "cell_type": "code",
      "source": [
        "model_path='./output/gender_model.h5'\n",
        "checkpointer = ModelCheckpoint(model_path, monitor='loss',verbose=1,save_best_only=True,\n",
        "                               save_weights_only=False, mode='auto',save_freq='epoch')\n",
        "callback_list=[checkpointer]"
      ],
      "metadata": {
        "id": "JT0r6MMx-mhe"
      },
      "execution_count": 12,
      "outputs": []
    },
    {
      "cell_type": "code",
      "source": [
        "save = model.fit(x_train,y_train,validation_data=(x_test,y_test),epochs=30,callbacks=[callback_list])"
      ],
      "metadata": {
        "colab": {
          "base_uri": "https://localhost:8080/"
        },
        "id": "tCfwp425-tye",
        "outputId": "ef7089e9-c494-4124-fc47-b396f3276170"
      },
      "execution_count": 13,
      "outputs": [
        {
          "output_type": "stream",
          "name": "stdout",
          "text": [
            "Epoch 1/30\n",
            "205/205 [==============================] - ETA: 0s - loss: 2.7030 - accuracy: 0.6812\n",
            "Epoch 1: loss improved from inf to 2.70299, saving model to ./output/gender_model.h5\n",
            "205/205 [==============================] - 18s 26ms/step - loss: 2.7030 - accuracy: 0.6812 - val_loss: 0.6522 - val_accuracy: 0.8131\n",
            "Epoch 2/30\n",
            "205/205 [==============================] - ETA: 0s - loss: 0.6096 - accuracy: 0.8268\n",
            "Epoch 2: loss improved from 2.70299 to 0.60956, saving model to ./output/gender_model.h5\n",
            "205/205 [==============================] - 5s 23ms/step - loss: 0.6096 - accuracy: 0.8268 - val_loss: 0.5557 - val_accuracy: 0.8774\n",
            "Epoch 3/30\n",
            "205/205 [==============================] - ETA: 0s - loss: 0.5212 - accuracy: 0.8607\n",
            "Epoch 3: loss improved from 0.60956 to 0.52118, saving model to ./output/gender_model.h5\n",
            "205/205 [==============================] - 5s 24ms/step - loss: 0.5212 - accuracy: 0.8607 - val_loss: 0.4624 - val_accuracy: 0.8949\n",
            "Epoch 4/30\n",
            "204/205 [============================>.] - ETA: 0s - loss: 0.4710 - accuracy: 0.8822\n",
            "Epoch 4: loss improved from 0.52118 to 0.47091, saving model to ./output/gender_model.h5\n",
            "205/205 [==============================] - 5s 24ms/step - loss: 0.4709 - accuracy: 0.8823 - val_loss: 0.4574 - val_accuracy: 0.8972\n",
            "Epoch 5/30\n",
            "202/205 [============================>.] - ETA: 0s - loss: 0.4355 - accuracy: 0.8943\n",
            "Epoch 5: loss improved from 0.47091 to 0.43557, saving model to ./output/gender_model.h5\n",
            "205/205 [==============================] - 5s 24ms/step - loss: 0.4356 - accuracy: 0.8947 - val_loss: 0.4338 - val_accuracy: 0.8926\n",
            "Epoch 6/30\n",
            "202/205 [============================>.] - ETA: 0s - loss: 0.4049 - accuracy: 0.8990\n",
            "Epoch 6: loss improved from 0.43557 to 0.40496, saving model to ./output/gender_model.h5\n",
            "205/205 [==============================] - 5s 24ms/step - loss: 0.4050 - accuracy: 0.8991 - val_loss: 0.3927 - val_accuracy: 0.9082\n",
            "Epoch 7/30\n",
            "202/205 [============================>.] - ETA: 0s - loss: 0.3819 - accuracy: 0.9092\n",
            "Epoch 7: loss improved from 0.40496 to 0.38176, saving model to ./output/gender_model.h5\n",
            "205/205 [==============================] - 5s 24ms/step - loss: 0.3818 - accuracy: 0.9090 - val_loss: 0.4011 - val_accuracy: 0.8949\n",
            "Epoch 8/30\n",
            "202/205 [============================>.] - ETA: 0s - loss: 0.3746 - accuracy: 0.9115\n",
            "Epoch 8: loss improved from 0.38176 to 0.37394, saving model to ./output/gender_model.h5\n",
            "205/205 [==============================] - 5s 24ms/step - loss: 0.3739 - accuracy: 0.9115 - val_loss: 0.4608 - val_accuracy: 0.8673\n",
            "Epoch 9/30\n",
            "205/205 [==============================] - ETA: 0s - loss: 0.3636 - accuracy: 0.9136\n",
            "Epoch 9: loss improved from 0.37394 to 0.36356, saving model to ./output/gender_model.h5\n",
            "205/205 [==============================] - 5s 25ms/step - loss: 0.3636 - accuracy: 0.9136 - val_loss: 0.3728 - val_accuracy: 0.9109\n",
            "Epoch 10/30\n",
            "202/205 [============================>.] - ETA: 0s - loss: 0.3386 - accuracy: 0.9185\n",
            "Epoch 10: loss improved from 0.36356 to 0.33796, saving model to ./output/gender_model.h5\n",
            "205/205 [==============================] - 5s 25ms/step - loss: 0.3380 - accuracy: 0.9185 - val_loss: 0.3879 - val_accuracy: 0.8994\n",
            "Epoch 11/30\n",
            "202/205 [============================>.] - ETA: 0s - loss: 0.3138 - accuracy: 0.9245\n",
            "Epoch 11: loss improved from 0.33796 to 0.31547, saving model to ./output/gender_model.h5\n",
            "205/205 [==============================] - 5s 23ms/step - loss: 0.3155 - accuracy: 0.9241 - val_loss: 0.3936 - val_accuracy: 0.9013\n",
            "Epoch 12/30\n",
            "202/205 [============================>.] - ETA: 0s - loss: 0.3283 - accuracy: 0.9189\n",
            "Epoch 12: loss did not improve from 0.31547\n",
            "205/205 [==============================] - 5s 23ms/step - loss: 0.3288 - accuracy: 0.9190 - val_loss: 0.3717 - val_accuracy: 0.9068\n",
            "Epoch 13/30\n",
            "204/205 [============================>.] - ETA: 0s - loss: 0.3029 - accuracy: 0.9300\n",
            "Epoch 13: loss improved from 0.31547 to 0.30293, saving model to ./output/gender_model.h5\n",
            "205/205 [==============================] - 6s 28ms/step - loss: 0.3029 - accuracy: 0.9300 - val_loss: 0.3901 - val_accuracy: 0.9077\n",
            "Epoch 14/30\n",
            "202/205 [============================>.] - ETA: 0s - loss: 0.3010 - accuracy: 0.9304\n",
            "Epoch 14: loss improved from 0.30293 to 0.30040, saving model to ./output/gender_model.h5\n",
            "205/205 [==============================] - 5s 24ms/step - loss: 0.3004 - accuracy: 0.9308 - val_loss: 0.3734 - val_accuracy: 0.9091\n",
            "Epoch 15/30\n",
            "202/205 [============================>.] - ETA: 0s - loss: 0.2728 - accuracy: 0.9412\n",
            "Epoch 15: loss improved from 0.30040 to 0.27433, saving model to ./output/gender_model.h5\n",
            "205/205 [==============================] - 5s 23ms/step - loss: 0.2743 - accuracy: 0.9401 - val_loss: 0.3779 - val_accuracy: 0.8990\n",
            "Epoch 16/30\n",
            "203/205 [============================>.] - ETA: 0s - loss: 0.2696 - accuracy: 0.9397\n",
            "Epoch 16: loss improved from 0.27433 to 0.26984, saving model to ./output/gender_model.h5\n",
            "205/205 [==============================] - 5s 24ms/step - loss: 0.2698 - accuracy: 0.9395 - val_loss: 0.3603 - val_accuracy: 0.9100\n",
            "Epoch 17/30\n",
            "202/205 [============================>.] - ETA: 0s - loss: 0.2579 - accuracy: 0.9398\n",
            "Epoch 17: loss improved from 0.26984 to 0.25765, saving model to ./output/gender_model.h5\n",
            "205/205 [==============================] - 5s 24ms/step - loss: 0.2577 - accuracy: 0.9401 - val_loss: 0.3837 - val_accuracy: 0.8990\n",
            "Epoch 18/30\n",
            "204/205 [============================>.] - ETA: 0s - loss: 0.2808 - accuracy: 0.9298\n",
            "Epoch 18: loss did not improve from 0.25765\n",
            "205/205 [==============================] - 5s 23ms/step - loss: 0.2807 - accuracy: 0.9299 - val_loss: 0.3506 - val_accuracy: 0.9132\n",
            "Epoch 19/30\n",
            "204/205 [============================>.] - ETA: 0s - loss: 0.2412 - accuracy: 0.9447\n",
            "Epoch 19: loss improved from 0.25765 to 0.24109, saving model to ./output/gender_model.h5\n",
            "205/205 [==============================] - 6s 28ms/step - loss: 0.2411 - accuracy: 0.9447 - val_loss: 0.3729 - val_accuracy: 0.9151\n",
            "Epoch 20/30\n",
            "202/205 [============================>.] - ETA: 0s - loss: 0.2379 - accuracy: 0.9460\n",
            "Epoch 20: loss improved from 0.24109 to 0.23751, saving model to ./output/gender_model.h5\n",
            "205/205 [==============================] - 5s 24ms/step - loss: 0.2375 - accuracy: 0.9461 - val_loss: 0.3786 - val_accuracy: 0.8985\n",
            "Epoch 21/30\n",
            "202/205 [============================>.] - ETA: 0s - loss: 0.2227 - accuracy: 0.9493\n",
            "Epoch 21: loss improved from 0.23751 to 0.22271, saving model to ./output/gender_model.h5\n",
            "205/205 [==============================] - 5s 24ms/step - loss: 0.2227 - accuracy: 0.9490 - val_loss: 0.3528 - val_accuracy: 0.9137\n",
            "Epoch 22/30\n",
            "202/205 [============================>.] - ETA: 0s - loss: 0.2262 - accuracy: 0.9462\n",
            "Epoch 22: loss did not improve from 0.22271\n",
            "205/205 [==============================] - 5s 24ms/step - loss: 0.2260 - accuracy: 0.9464 - val_loss: 0.3605 - val_accuracy: 0.9082\n",
            "Epoch 23/30\n",
            "204/205 [============================>.] - ETA: 0s - loss: 0.2097 - accuracy: 0.9534\n",
            "Epoch 23: loss improved from 0.22271 to 0.20981, saving model to ./output/gender_model.h5\n",
            "205/205 [==============================] - 6s 28ms/step - loss: 0.2098 - accuracy: 0.9533 - val_loss: 0.3783 - val_accuracy: 0.9096\n",
            "Epoch 24/30\n",
            "204/205 [============================>.] - ETA: 0s - loss: 0.2130 - accuracy: 0.9491\n",
            "Epoch 24: loss did not improve from 0.20981\n",
            "205/205 [==============================] - 6s 28ms/step - loss: 0.2130 - accuracy: 0.9492 - val_loss: 0.3534 - val_accuracy: 0.9137\n",
            "Epoch 25/30\n",
            "202/205 [============================>.] - ETA: 0s - loss: 0.1898 - accuracy: 0.9579\n",
            "Epoch 25: loss improved from 0.20981 to 0.19016, saving model to ./output/gender_model.h5\n",
            "205/205 [==============================] - 5s 24ms/step - loss: 0.1902 - accuracy: 0.9577 - val_loss: 0.5292 - val_accuracy: 0.8889\n",
            "Epoch 26/30\n",
            "202/205 [============================>.] - ETA: 0s - loss: 0.1994 - accuracy: 0.9505\n",
            "Epoch 26: loss did not improve from 0.19016\n",
            "205/205 [==============================] - 5s 23ms/step - loss: 0.1989 - accuracy: 0.9507 - val_loss: 0.4100 - val_accuracy: 0.9063\n",
            "Epoch 27/30\n",
            "202/205 [============================>.] - ETA: 0s - loss: 0.1853 - accuracy: 0.9562\n",
            "Epoch 27: loss improved from 0.19016 to 0.18597, saving model to ./output/gender_model.h5\n",
            "205/205 [==============================] - 5s 24ms/step - loss: 0.1860 - accuracy: 0.9561 - val_loss: 0.4026 - val_accuracy: 0.8994\n",
            "Epoch 28/30\n",
            "202/205 [============================>.] - ETA: 0s - loss: 0.1867 - accuracy: 0.9565\n",
            "Epoch 28: loss did not improve from 0.18597\n",
            "205/205 [==============================] - 5s 23ms/step - loss: 0.1866 - accuracy: 0.9564 - val_loss: 0.3821 - val_accuracy: 0.9031\n",
            "Epoch 29/30\n",
            "204/205 [============================>.] - ETA: 0s - loss: 0.1762 - accuracy: 0.9597\n",
            "Epoch 29: loss improved from 0.18597 to 0.17618, saving model to ./output/gender_model.h5\n",
            "205/205 [==============================] - 6s 28ms/step - loss: 0.1762 - accuracy: 0.9597 - val_loss: 0.3697 - val_accuracy: 0.8999\n",
            "Epoch 30/30\n",
            "202/205 [============================>.] - ETA: 0s - loss: 0.1858 - accuracy: 0.9545\n",
            "Epoch 30: loss did not improve from 0.17618\n",
            "205/205 [==============================] - 5s 23ms/step - loss: 0.1864 - accuracy: 0.9541 - val_loss: 0.3342 - val_accuracy: 0.9105\n"
          ]
        }
      ]
    },
    {
      "cell_type": "code",
      "source": [
        "# Checking the train and test loss and accuracy values from the neural network above.\n",
        "\n",
        "train_loss = save.history['loss']\n",
        "test_loss = save.history['val_loss']\n",
        "train_accuracy = save.history['accuracy']\n",
        "test_accuracy = save.history['val_accuracy']"
      ],
      "metadata": {
        "id": "WLbAvEjS-vk-"
      },
      "execution_count": 14,
      "outputs": []
    },
    {
      "cell_type": "code",
      "source": [
        "# Plotting a line chart to visualize the loss and accuracy values by epochs.\n",
        "\n",
        "fig, ax = plt.subplots(ncols=2, figsize=(15,7))\n",
        "\n",
        "ax = ax.ravel()\n",
        "\n",
        "ax[0].plot(train_loss, label='Train Loss', color='royalblue', marker='o', markersize=5)\n",
        "ax[0].plot(test_loss, label='Test Loss', color = 'orangered', marker='o', markersize=5)\n",
        "\n",
        "ax[0].set_xlabel('Epochs', fontsize=14)\n",
        "ax[0].set_ylabel('Categorical Crossentropy', fontsize=14)\n",
        "\n",
        "ax[0].legend(fontsize=14)\n",
        "ax[0].tick_params(axis='both', labelsize=12)\n",
        "\n",
        "ax[1].plot(train_accuracy, label='Train Accuracy', color='royalblue', marker='o', markersize=5)\n",
        "ax[1].plot(test_accuracy, label='Test Accuracy', color='orangered', marker='o', markersize=5)\n",
        "\n",
        "ax[1].set_xlabel('Epochs', fontsize=14)\n",
        "ax[1].set_ylabel('Accuracy', fontsize=14)\n",
        "\n",
        "ax[1].legend(fontsize=14)\n",
        "ax[1].tick_params(axis='both', labelsize=12)\n",
        "\n",
        "fig.suptitle(x=0.5, y=0.92, t=\"Lineplots showing loss and accuracy of CNN model by epochs\", fontsize=16)"
      ],
      "metadata": {
        "colab": {
          "base_uri": "https://localhost:8080/",
          "height": 487
        },
        "id": "6XwtO36N-yQs",
        "outputId": "64af6f37-31a5-46db-fbf0-c0d8db5ef81f"
      },
      "execution_count": 15,
      "outputs": [
        {
          "output_type": "execute_result",
          "data": {
            "text/plain": [
              "Text(0.5, 0.92, 'Lineplots showing loss and accuracy of CNN model by epochs')"
            ]
          },
          "metadata": {},
          "execution_count": 15
        },
        {
          "output_type": "display_data",
          "data": {
            "text/plain": [
              "<Figure size 1080x504 with 2 Axes>"
            ],
            "image/png": "[encoded data removed]"
          },
          "metadata": {
            "needs_background": "light"
          }
        }
      ]
    },
    {
      "cell_type": "code",
      "source": [
        "from google.colab import drive\n",
        "drive.mount('/content/drive')\n",
        "!wget -nc https://raw.githubusercontent.com/brpy/colab-pdf/master/colab_pdf.py\n",
        "from colab_pdf import colab_pdf\n",
        "colab_pdf('Gender_Model.ipynb')"
      ],
      "metadata": {
        "colab": {
          "base_uri": "https://localhost:8080/",
          "height": 539
        },
        "id": "suegAPpA-zNE",
        "outputId": "44485f2b-256a-43cc-8faf-44bf5685f9d3"
      },
      "execution_count": 16,
      "outputs": [
        {
          "output_type": "stream",
          "name": "stdout",
          "text": [
            "Drive already mounted at /content/drive; to attempt to forcibly remount, call drive.mount(\"/content/drive\", force_remount=True).\n",
            "--2022-06-11 09:03:09--  https://raw.githubusercontent.com/brpy/colab-pdf/master/colab_pdf.py\n",
            "Resolving raw.githubusercontent.com (raw.githubusercontent.com)... 185.199.111.133, 185.199.110.133, 185.199.109.133, ...\n",
            "Connecting to raw.githubusercontent.com (raw.githubusercontent.com)|185.199.111.133|:443... connected.\n",
            "HTTP request sent, awaiting response... 200 OK\n",
            "Length: 1864 (1.8K) [text/plain]\n",
            "Saving to: ‘colab_pdf.py’\n",
            "\n",
            "colab_pdf.py        100%[===================>]   1.82K  --.-KB/s    in 0.001s  \n",
            "\n",
            "2022-06-11 09:03:09 (2.28 MB/s) - ‘colab_pdf.py’ saved [1864/1864]\n",
            "\n",
            "\n",
            "WARNING: apt does not have a stable CLI interface. Use with caution in scripts.\n",
            "\n",
            "\n",
            "WARNING: apt does not have a stable CLI interface. Use with caution in scripts.\n",
            "\n",
            "Extracting templates from packages: 100%\n",
            "[NbConvertApp] Converting notebook /content/drive/MyDrive/Colab Notebooks/Gender_Model.ipynb to pdf\n",
            "[NbConvertApp] Support files will be in Gender_Model_files/\n",
            "[NbConvertApp] Making directory ./Gender_Model_files\n",
            "[NbConvertApp] Writing 54083 bytes to ./notebook.tex\n",
            "[NbConvertApp] Building PDF\n",
            "[NbConvertApp] Running xelatex 3 times: ['xelatex', './notebook.tex', '-quiet']\n",
            "[NbConvertApp] Running bibtex 1 time: ['bibtex', './notebook']\n",
            "[NbConvertApp] WARNING | bibtex had problems, most likely because there were no citations\n",
            "[NbConvertApp] PDF successfully created\n",
            "[NbConvertApp] Writing 87256 bytes to /content/drive/My Drive/Gender_Model.pdf\n"
          ]
        },
        {
          "output_type": "display_data",
          "data": {
            "text/plain": [
              "<IPython.core.display.Javascript object>"
            ],
            "application/javascript": [
              "\n",
              "    async function download(id, filename, size) {\n",
              "      if (!google.colab.kernel.accessAllowed) {\n",
              "        return;\n",
              "      }\n",
              "      const div = document.createElement('div');\n",
              "      const label = document.createElement('label');\n",
              "      label.textContent = `Downloading \"${filename}\": `;\n",
              "      div.appendChild(label);\n",
              "      const progress = document.createElement('progress');\n",
              "      progress.max = size;\n",
              "      div.appendChild(progress);\n",
              "      document.body.appendChild(div);\n",
              "\n",
              "      const buffers = [];\n",
              "      let downloaded = 0;\n",
              "\n",
              "      const channel = await google.colab.kernel.comms.open(id);\n",
              "      // Send a message to notify the kernel that we're ready.\n",
              "      channel.send({})\n",
              "\n",
              "      for await (const message of channel.messages) {\n",
              "        // Send a message to notify the kernel that we're ready.\n",
              "        channel.send({})\n",
              "        if (message.buffers) {\n",
              "          for (const buffer of message.buffers) {\n",
              "            buffers.push(buffer);\n",
              "            downloaded += buffer.byteLength;\n",
              "            progress.value = downloaded;\n",
              "          }\n",
              "        }\n",
              "      }\n",
              "      const blob = new Blob(buffers, {type: 'application/binary'});\n",
              "      const a = document.createElement('a');\n",
              "      a.href = window.URL.createObjectURL(blob);\n",
              "      a.download = filename;\n",
              "      div.appendChild(a);\n",
              "      a.click();\n",
              "      div.remove();\n",
              "    }\n",
              "  "
            ]
          },
          "metadata": {}
        },
        {
          "output_type": "display_data",
          "data": {
            "text/plain": [
              "<IPython.core.display.Javascript object>"
            ],
            "application/javascript": [
              "download(\"download_8b8a25e1-cb07-4dda-9364-3ad5b9f35c43\", \"Gender_Model.pdf\", 87256)"
            ]
          },
          "metadata": {}
        },
        {
          "output_type": "execute_result",
          "data": {
            "text/plain": [
              "'File ready to be Downloaded and Saved to Drive'"
            ],
            "application/vnd.google.colaboratory.intrinsic+json": {
              "type": "string"
            }
          },
          "metadata": {},
          "execution_count": 16
        }
      ]
    },
    {
      "cell_type": "code",
      "source": [
        ""
      ],
      "metadata": {
        "id": "TJtov8zD-46h"
      },
      "execution_count": null,
      "outputs": []
    }
  ]
}